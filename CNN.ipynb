{
 "cells": [
  {
   "cell_type": "markdown",
   "metadata": {
    "id": "HkLUJVa1bfNW"
   },
   "source": [
    "# Convolutional Neural Networks\n",
    "This notebook will guide you through the use of the `keras` package to train convolutional neural networks for handwritten digits classification. You are going to use the `mnist` dataset from LeCun et al. 1998."
   ]
  },
  {
   "cell_type": "markdown",
   "metadata": {
    "id": "SjQUQygFbfNb"
   },
   "source": [
    "## Loading the packages"
   ]
  },
  {
   "cell_type": "code",
   "metadata": {
    "id": "h7O8MewabfNj",
    "colab": {
     "base_uri": "https://localhost:8080/"
    },
    "outputId": "a46781c8-1441-49c4-aca2-3402d4f1f0ac",
    "ExecuteTime": {
     "end_time": "2024-05-12T15:05:43.024523Z",
     "start_time": "2024-05-12T15:05:34.862302Z"
    }
   },
   "source": [
    "%pip install tensorflow --upgrade\n",
    "%pip install keras --upgrade\n",
    "\n",
    "import numpy as np\n",
    "from matplotlib import pyplot as pl\n",
    "\n",
    "from tensorflow.keras.datasets import mnist\n",
    "from tensorflow.keras.models import Model\n",
    "from tensorflow.keras.layers import Dense, Dropout, Flatten, Conv2D, MaxPooling2D\n",
    "from tensorflow.keras.optimizers import RMSprop\n",
    "from tensorflow.keras.utils import to_categorical\n",
    "from tensorflow.keras.layers import Input\n",
    "from scipy import stats\n",
    "\n",
    "%matplotlib inline"
   ],
   "outputs": [
    {
     "name": "stdout",
     "output_type": "stream",
     "text": [
      "Defaulting to user installation because normal site-packages is not writeable\n",
      "Requirement already satisfied: tensorflow in c:\\users\\anthony\\appdata\\roaming\\python\\python39\\site-packages (2.16.1)\n",
      "Requirement already satisfied: tensorflow-intel==2.16.1 in c:\\users\\anthony\\appdata\\roaming\\python\\python39\\site-packages (from tensorflow) (2.16.1)\n",
      "Requirement already satisfied: absl-py>=1.0.0 in c:\\users\\anthony\\appdata\\roaming\\python\\python39\\site-packages (from tensorflow-intel==2.16.1->tensorflow) (2.1.0)\n",
      "Requirement already satisfied: astunparse>=1.6.0 in c:\\users\\anthony\\appdata\\roaming\\python\\python39\\site-packages (from tensorflow-intel==2.16.1->tensorflow) (1.6.3)\n",
      "Requirement already satisfied: flatbuffers>=23.5.26 in c:\\users\\anthony\\appdata\\roaming\\python\\python39\\site-packages (from tensorflow-intel==2.16.1->tensorflow) (24.3.25)\n",
      "Requirement already satisfied: gast!=0.5.0,!=0.5.1,!=0.5.2,>=0.2.1 in c:\\users\\anthony\\appdata\\roaming\\python\\python39\\site-packages (from tensorflow-intel==2.16.1->tensorflow) (0.5.4)\n",
      "Requirement already satisfied: google-pasta>=0.1.1 in c:\\users\\anthony\\appdata\\roaming\\python\\python39\\site-packages (from tensorflow-intel==2.16.1->tensorflow) (0.2.0)\n",
      "Requirement already satisfied: h5py>=3.10.0 in c:\\users\\anthony\\appdata\\roaming\\python\\python39\\site-packages (from tensorflow-intel==2.16.1->tensorflow) (3.11.0)\n",
      "Requirement already satisfied: libclang>=13.0.0 in c:\\users\\anthony\\appdata\\roaming\\python\\python39\\site-packages (from tensorflow-intel==2.16.1->tensorflow) (18.1.1)\n",
      "Requirement already satisfied: ml-dtypes~=0.3.1 in c:\\users\\anthony\\appdata\\roaming\\python\\python39\\site-packages (from tensorflow-intel==2.16.1->tensorflow) (0.3.2)\n",
      "Requirement already satisfied: opt-einsum>=2.3.2 in c:\\users\\anthony\\appdata\\roaming\\python\\python39\\site-packages (from tensorflow-intel==2.16.1->tensorflow) (3.3.0)\n",
      "Requirement already satisfied: packaging in c:\\program files\\python39\\lib\\site-packages (from tensorflow-intel==2.16.1->tensorflow) (24.0)\n",
      "Requirement already satisfied: protobuf!=4.21.0,!=4.21.1,!=4.21.2,!=4.21.3,!=4.21.4,!=4.21.5,<5.0.0dev,>=3.20.3 in c:\\users\\anthony\\appdata\\roaming\\python\\python39\\site-packages (from tensorflow-intel==2.16.1->tensorflow) (4.25.3)\n",
      "Requirement already satisfied: requests<3,>=2.21.0 in c:\\program files\\python39\\lib\\site-packages (from tensorflow-intel==2.16.1->tensorflow) (2.31.0)\n",
      "Requirement already satisfied: setuptools in c:\\program files\\python39\\lib\\site-packages (from tensorflow-intel==2.16.1->tensorflow) (65.3.0)\n",
      "Requirement already satisfied: six>=1.12.0 in c:\\program files\\python39\\lib\\site-packages (from tensorflow-intel==2.16.1->tensorflow) (1.16.0)\n",
      "Requirement already satisfied: termcolor>=1.1.0 in c:\\users\\anthony\\appdata\\roaming\\python\\python39\\site-packages (from tensorflow-intel==2.16.1->tensorflow) (2.4.0)\n",
      "Requirement already satisfied: typing-extensions>=3.6.6 in c:\\program files\\python39\\lib\\site-packages (from tensorflow-intel==2.16.1->tensorflow) (4.11.0)\n",
      "Requirement already satisfied: wrapt>=1.11.0 in c:\\users\\anthony\\appdata\\roaming\\python\\python39\\site-packages (from tensorflow-intel==2.16.1->tensorflow) (1.16.0)\n",
      "Requirement already satisfied: grpcio<2.0,>=1.24.3 in c:\\users\\anthony\\appdata\\roaming\\python\\python39\\site-packages (from tensorflow-intel==2.16.1->tensorflow) (1.63.0)\n",
      "Requirement already satisfied: tensorboard<2.17,>=2.16 in c:\\users\\anthony\\appdata\\roaming\\python\\python39\\site-packages (from tensorflow-intel==2.16.1->tensorflow) (2.16.2)\n",
      "Requirement already satisfied: keras>=3.0.0 in c:\\users\\anthony\\appdata\\roaming\\python\\python39\\site-packages (from tensorflow-intel==2.16.1->tensorflow) (3.3.3)\n",
      "Requirement already satisfied: tensorflow-io-gcs-filesystem>=0.23.1 in c:\\users\\anthony\\appdata\\roaming\\python\\python39\\site-packages (from tensorflow-intel==2.16.1->tensorflow) (0.31.0)\n",
      "Requirement already satisfied: numpy<2.0.0,>=1.23.5 in c:\\users\\anthony\\appdata\\roaming\\python\\python39\\site-packages (from tensorflow-intel==2.16.1->tensorflow) (1.26.4)\n",
      "Requirement already satisfied: wheel<1.0,>=0.23.0 in c:\\users\\anthony\\appdata\\roaming\\python\\python39\\site-packages (from astunparse>=1.6.0->tensorflow-intel==2.16.1->tensorflow) (0.43.0)\n",
      "Requirement already satisfied: rich in c:\\users\\anthony\\appdata\\roaming\\python\\python39\\site-packages (from keras>=3.0.0->tensorflow-intel==2.16.1->tensorflow) (13.7.1)\n",
      "Requirement already satisfied: namex in c:\\users\\anthony\\appdata\\roaming\\python\\python39\\site-packages (from keras>=3.0.0->tensorflow-intel==2.16.1->tensorflow) (0.0.8)\n",
      "Requirement already satisfied: optree in c:\\users\\anthony\\appdata\\roaming\\python\\python39\\site-packages (from keras>=3.0.0->tensorflow-intel==2.16.1->tensorflow) (0.11.0)\n",
      "Requirement already satisfied: charset-normalizer<4,>=2 in c:\\program files\\python39\\lib\\site-packages (from requests<3,>=2.21.0->tensorflow-intel==2.16.1->tensorflow) (3.3.1)\n",
      "Requirement already satisfied: idna<4,>=2.5 in c:\\program files\\python39\\lib\\site-packages (from requests<3,>=2.21.0->tensorflow-intel==2.16.1->tensorflow) (3.4)\n",
      "Requirement already satisfied: urllib3<3,>=1.21.1 in c:\\program files\\python39\\lib\\site-packages (from requests<3,>=2.21.0->tensorflow-intel==2.16.1->tensorflow) (2.0.7)\n",
      "Requirement already satisfied: certifi>=2017.4.17 in c:\\program files\\python39\\lib\\site-packages (from requests<3,>=2.21.0->tensorflow-intel==2.16.1->tensorflow) (2023.7.22)\n",
      "Requirement already satisfied: markdown>=2.6.8 in c:\\users\\anthony\\appdata\\roaming\\python\\python39\\site-packages (from tensorboard<2.17,>=2.16->tensorflow-intel==2.16.1->tensorflow) (3.6)\n",
      "Requirement already satisfied: tensorboard-data-server<0.8.0,>=0.7.0 in c:\\users\\anthony\\appdata\\roaming\\python\\python39\\site-packages (from tensorboard<2.17,>=2.16->tensorflow-intel==2.16.1->tensorflow) (0.7.2)\n",
      "Requirement already satisfied: werkzeug>=1.0.1 in c:\\users\\anthony\\appdata\\roaming\\python\\python39\\site-packages (from tensorboard<2.17,>=2.16->tensorflow-intel==2.16.1->tensorflow) (3.0.3)\n",
      "Requirement already satisfied: importlib-metadata>=4.4 in c:\\program files\\python39\\lib\\site-packages (from markdown>=2.6.8->tensorboard<2.17,>=2.16->tensorflow-intel==2.16.1->tensorflow) (7.1.0)\n",
      "Requirement already satisfied: MarkupSafe>=2.1.1 in c:\\program files\\python39\\lib\\site-packages (from werkzeug>=1.0.1->tensorboard<2.17,>=2.16->tensorflow-intel==2.16.1->tensorflow) (2.1.5)\n",
      "Requirement already satisfied: markdown-it-py>=2.2.0 in c:\\users\\anthony\\appdata\\roaming\\python\\python39\\site-packages (from rich->keras>=3.0.0->tensorflow-intel==2.16.1->tensorflow) (3.0.0)\n",
      "Requirement already satisfied: pygments<3.0.0,>=2.13.0 in c:\\program files\\python39\\lib\\site-packages (from rich->keras>=3.0.0->tensorflow-intel==2.16.1->tensorflow) (2.17.2)\n",
      "Requirement already satisfied: zipp>=0.5 in c:\\program files\\python39\\lib\\site-packages (from importlib-metadata>=4.4->markdown>=2.6.8->tensorboard<2.17,>=2.16->tensorflow-intel==2.16.1->tensorflow) (3.18.1)\n",
      "Requirement already satisfied: mdurl~=0.1 in c:\\users\\anthony\\appdata\\roaming\\python\\python39\\site-packages (from markdown-it-py>=2.2.0->rich->keras>=3.0.0->tensorflow-intel==2.16.1->tensorflow) (0.1.2)\n",
      "Note: you may need to restart the kernel to use updated packages.\n",
      "Defaulting to user installation because normal site-packages is not writeable\n",
      "Requirement already satisfied: keras in c:\\users\\anthony\\appdata\\roaming\\python\\python39\\site-packages (3.3.3)\n",
      "Requirement already satisfied: absl-py in c:\\users\\anthony\\appdata\\roaming\\python\\python39\\site-packages (from keras) (2.1.0)\n",
      "Requirement already satisfied: numpy in c:\\users\\anthony\\appdata\\roaming\\python\\python39\\site-packages (from keras) (1.26.4)\n",
      "Requirement already satisfied: rich in c:\\users\\anthony\\appdata\\roaming\\python\\python39\\site-packages (from keras) (13.7.1)\n",
      "Requirement already satisfied: namex in c:\\users\\anthony\\appdata\\roaming\\python\\python39\\site-packages (from keras) (0.0.8)\n",
      "Requirement already satisfied: h5py in c:\\users\\anthony\\appdata\\roaming\\python\\python39\\site-packages (from keras) (3.11.0)\n",
      "Requirement already satisfied: optree in c:\\users\\anthony\\appdata\\roaming\\python\\python39\\site-packages (from keras) (0.11.0)\n",
      "Requirement already satisfied: ml-dtypes in c:\\users\\anthony\\appdata\\roaming\\python\\python39\\site-packages (from keras) (0.3.2)\n",
      "Requirement already satisfied: typing-extensions>=4.0.0 in c:\\program files\\python39\\lib\\site-packages (from optree->keras) (4.11.0)\n",
      "Requirement already satisfied: markdown-it-py>=2.2.0 in c:\\users\\anthony\\appdata\\roaming\\python\\python39\\site-packages (from rich->keras) (3.0.0)\n",
      "Requirement already satisfied: pygments<3.0.0,>=2.13.0 in c:\\program files\\python39\\lib\\site-packages (from rich->keras) (2.17.2)\n",
      "Requirement already satisfied: mdurl~=0.1 in c:\\users\\anthony\\appdata\\roaming\\python\\python39\\site-packages (from markdown-it-py>=2.2.0->rich->keras) (0.1.2)\n",
      "Note: you may need to restart the kernel to use updated packages.\n"
     ]
    }
   ],
   "execution_count": 2
  },
  {
   "metadata": {
    "ExecuteTime": {
     "end_time": "2024-05-12T15:05:43.040065Z",
     "start_time": "2024-05-12T15:05:43.026525Z"
    }
   },
   "cell_type": "code",
   "source": "",
   "outputs": [],
   "execution_count": 2
  },
  {
   "cell_type": "markdown",
   "metadata": {
    "id": "vbttXt8SbfOH"
   },
   "source": [
    "First, create some useful functions"
   ]
  },
  {
   "cell_type": "code",
   "metadata": {
    "id": "jAR9jPgybfOO",
    "ExecuteTime": {
     "end_time": "2024-05-12T15:05:43.055565Z",
     "start_time": "2024-05-12T15:05:43.041566Z"
    }
   },
   "source": [
    "def build_grid_of_images(array):\n",
    "    assert len(array.shape) == 3\n",
    "    dim_0 = np.sqrt(array.shape[0])\n",
    "    assert dim_0.is_integer()\n",
    "\n",
    "    temp_out = np.reshape(array, (dim_0, dim_0, array.shape[1], array.shape[2]))\n",
    "    temp_out = np.rollaxis(temp_out, 1, 3)\n",
    "    return np.reshape(temp_out, (dim_0*array.shape[1], dim_0*array.shape[2]))\n",
    "\n",
    "def plot_conv_layer_output(temp_out, title):\n",
    "    temp_to_plot = build_grid_of_images(temp_out)\n",
    "    pl.imshow(temp_to_plot, interpolation='nearest', cmap=pl.get_cmap('Greys'))\n",
    "    ax = pl.gca()\n",
    "    ax.set_xticks(np.arange(-0.5, temp_to_plot.shape[0]+0.5, temp_out.shape[1]))\n",
    "    ax.set_yticks(np.arange(-0.5, temp_to_plot.shape[0]+0.5, temp_out.shape[2]))\n",
    "    pl.grid()\n",
    "    pl.tick_params(axis='both', which='both', bottom='off', top='off', left='off', right='off', labelbottom='off', labelleft='off')\n",
    "    pl.title(title)\n",
    "\n",
    "def plot_dense_layer_output(temp_out, title):\n",
    "    pl.bar(np.arange(temp_out.shape[1])-0.4, temp_out[0,:])\n",
    "    pl.xlim(-0.5, temp_out.shape[1])\n",
    "    pl.grid()\n",
    "    pl.title(title)"
   ],
   "outputs": [],
   "execution_count": 3
  },
  {
   "cell_type": "markdown",
   "metadata": {
    "id": "3fVOW4jGbfOb"
   },
   "source": [
    "Load the `mnist` dataset and normalize in the range [0, 1]"
   ]
  },
  {
   "cell_type": "code",
   "metadata": {
    "colab": {
     "base_uri": "https://localhost:8080/"
    },
    "id": "2H2K3S4MbfOf",
    "outputId": "3ea455a5-0a9c-4437-f5d4-289dc382d8ba",
    "ExecuteTime": {
     "end_time": "2024-05-12T15:05:43.319156Z",
     "start_time": "2024-05-12T15:05:43.057567Z"
    }
   },
   "source": [
    "(X_train, y_train), (X_test, y_test) = mnist.load_data()\n",
    "\n",
    "n_train, height, width = X_train.shape\n",
    "n_test, _, _ = X_test.shape\n",
    "\n",
    "X_train = X_train.reshape(n_train, height, width, 1).astype('float32')\n",
    "X_test = X_test.reshape(n_test, height, width, 1).astype('float32')\n",
    "\n",
    "X_train /= 255.0\n",
    "X_test /= 255.0\n",
    "\n",
    "n_classes = 10\n",
    "\n",
    "print(n_train, 'train samples')\n",
    "print(n_test, 'test samples')\n",
    "\n",
    "# convert class vectors to binary class matrices\n",
    "Y_train = to_categorical(y_train, n_classes)\n",
    "Y_test = to_categorical(y_test, n_classes)"
   ],
   "outputs": [
    {
     "name": "stdout",
     "output_type": "stream",
     "text": [
      "60000 train samples\n",
      "10000 test samples\n"
     ]
    }
   ],
   "execution_count": 4
  },
  {
   "cell_type": "code",
   "metadata": {
    "colab": {
     "base_uri": "https://localhost:8080/"
    },
    "id": "4xhDKC7zWFgw",
    "outputId": "3644eb9c-adf2-4582-87bb-cea9f69a5526",
    "ExecuteTime": {
     "end_time": "2024-05-12T15:05:43.334653Z",
     "start_time": "2024-05-12T15:05:43.320655Z"
    }
   },
   "source": [
    "print('X_train.shape = ', X_train.shape)\n",
    "print('Y_train.shape = ', Y_train.shape)\n",
    "print('X_test.shape = ', X_test.shape)\n",
    "print('Y_test.shape = ', Y_test.shape)"
   ],
   "outputs": [
    {
     "name": "stdout",
     "output_type": "stream",
     "text": [
      "X_train.shape =  (60000, 28, 28, 1)\n",
      "Y_train.shape =  (60000, 10)\n",
      "X_test.shape =  (10000, 28, 28, 1)\n",
      "Y_test.shape =  (10000, 10)\n"
     ]
    }
   ],
   "execution_count": 5
  },
  {
   "cell_type": "markdown",
   "metadata": {
    "id": "2B-WNiQUbfOq"
   },
   "source": [
    "Create the CNN and show its architecture"
   ]
  },
  {
   "cell_type": "code",
   "metadata": {
    "colab": {
     "base_uri": "https://localhost:8080/",
     "height": 476
    },
    "id": "yhOscSNPbfOt",
    "outputId": "3249aae6-796a-400d-da1a-088f3eee7869",
    "ExecuteTime": {
     "end_time": "2024-05-12T15:57:42.341406Z",
     "start_time": "2024-05-12T15:57:42.296906Z"
    }
   },
   "source": [
    "l0 = Input(shape=(height, width, 1), name='l0')\n",
    "\n",
    "l1 = Conv2D(2, (5, 5), padding='same', activation='relu', name='l1')(l0)\n",
    "l1_mp = MaxPooling2D(pool_size=(2, 2), name='l1_mp')(l1)\n",
    "\n",
    "l2 = Conv2D(2, (5, 5), padding='same', activation='relu', name='l2')(l1_mp)\n",
    "l2_mp = MaxPooling2D(pool_size=(2, 2), name='l2_mp')(l2)\n",
    "\n",
    "l3 = Conv2D(2, (3, 3), padding='same', activation='relu', name='l3')(l2_mp)\n",
    "l3_mp = MaxPooling2D(pool_size=(2, 2), name='l3_mp')(l3)\n",
    "\n",
    "flat = Flatten(name='flat')(l3_mp)\n",
    "\n",
    "l4 = Dense(25, activation='relu', name='l4')(flat)\n",
    "l5 = Dense(n_classes, activation='softmax', name='l5')(l4)\n",
    "\n",
    "model = Model(inputs=l0, outputs=l5)\n",
    "model.summary()"
   ],
   "outputs": [
    {
     "data": {
      "text/plain": [
       "\u001B[1mModel: \"functional_9\"\u001B[0m\n"
      ],
      "text/html": [
       "<pre style=\"white-space:pre;overflow-x:auto;line-height:normal;font-family:Menlo,'DejaVu Sans Mono',consolas,'Courier New',monospace\"><span style=\"font-weight: bold\">Model: \"functional_9\"</span>\n",
       "</pre>\n"
      ]
     },
     "metadata": {},
     "output_type": "display_data"
    },
    {
     "data": {
      "text/plain": [
       "┏━━━━━━━━━━━━━━━━━━━━━━━━━━━━━━━━━┳━━━━━━━━━━━━━━━━━━━━━━━━┳━━━━━━━━━━━━━━━┓\n",
       "┃\u001B[1m \u001B[0m\u001B[1mLayer (type)                   \u001B[0m\u001B[1m \u001B[0m┃\u001B[1m \u001B[0m\u001B[1mOutput Shape          \u001B[0m\u001B[1m \u001B[0m┃\u001B[1m \u001B[0m\u001B[1m      Param #\u001B[0m\u001B[1m \u001B[0m┃\n",
       "┡━━━━━━━━━━━━━━━━━━━━━━━━━━━━━━━━━╇━━━━━━━━━━━━━━━━━━━━━━━━╇━━━━━━━━━━━━━━━┩\n",
       "│ l0 (\u001B[38;5;33mInputLayer\u001B[0m)                 │ (\u001B[38;5;45mNone\u001B[0m, \u001B[38;5;34m28\u001B[0m, \u001B[38;5;34m28\u001B[0m, \u001B[38;5;34m1\u001B[0m)      │             \u001B[38;5;34m0\u001B[0m │\n",
       "├─────────────────────────────────┼────────────────────────┼───────────────┤\n",
       "│ l1 (\u001B[38;5;33mConv2D\u001B[0m)                     │ (\u001B[38;5;45mNone\u001B[0m, \u001B[38;5;34m28\u001B[0m, \u001B[38;5;34m28\u001B[0m, \u001B[38;5;34m2\u001B[0m)      │            \u001B[38;5;34m52\u001B[0m │\n",
       "├─────────────────────────────────┼────────────────────────┼───────────────┤\n",
       "│ l1_mp (\u001B[38;5;33mMaxPooling2D\u001B[0m)            │ (\u001B[38;5;45mNone\u001B[0m, \u001B[38;5;34m14\u001B[0m, \u001B[38;5;34m14\u001B[0m, \u001B[38;5;34m2\u001B[0m)      │             \u001B[38;5;34m0\u001B[0m │\n",
       "├─────────────────────────────────┼────────────────────────┼───────────────┤\n",
       "│ l2 (\u001B[38;5;33mConv2D\u001B[0m)                     │ (\u001B[38;5;45mNone\u001B[0m, \u001B[38;5;34m14\u001B[0m, \u001B[38;5;34m14\u001B[0m, \u001B[38;5;34m2\u001B[0m)      │           \u001B[38;5;34m102\u001B[0m │\n",
       "├─────────────────────────────────┼────────────────────────┼───────────────┤\n",
       "│ l2_mp (\u001B[38;5;33mMaxPooling2D\u001B[0m)            │ (\u001B[38;5;45mNone\u001B[0m, \u001B[38;5;34m7\u001B[0m, \u001B[38;5;34m7\u001B[0m, \u001B[38;5;34m2\u001B[0m)        │             \u001B[38;5;34m0\u001B[0m │\n",
       "├─────────────────────────────────┼────────────────────────┼───────────────┤\n",
       "│ l3 (\u001B[38;5;33mConv2D\u001B[0m)                     │ (\u001B[38;5;45mNone\u001B[0m, \u001B[38;5;34m7\u001B[0m, \u001B[38;5;34m7\u001B[0m, \u001B[38;5;34m2\u001B[0m)        │            \u001B[38;5;34m38\u001B[0m │\n",
       "├─────────────────────────────────┼────────────────────────┼───────────────┤\n",
       "│ l3_mp (\u001B[38;5;33mMaxPooling2D\u001B[0m)            │ (\u001B[38;5;45mNone\u001B[0m, \u001B[38;5;34m3\u001B[0m, \u001B[38;5;34m3\u001B[0m, \u001B[38;5;34m2\u001B[0m)        │             \u001B[38;5;34m0\u001B[0m │\n",
       "├─────────────────────────────────┼────────────────────────┼───────────────┤\n",
       "│ flat (\u001B[38;5;33mFlatten\u001B[0m)                  │ (\u001B[38;5;45mNone\u001B[0m, \u001B[38;5;34m18\u001B[0m)             │             \u001B[38;5;34m0\u001B[0m │\n",
       "├─────────────────────────────────┼────────────────────────┼───────────────┤\n",
       "│ l4 (\u001B[38;5;33mDense\u001B[0m)                      │ (\u001B[38;5;45mNone\u001B[0m, \u001B[38;5;34m25\u001B[0m)             │           \u001B[38;5;34m475\u001B[0m │\n",
       "├─────────────────────────────────┼────────────────────────┼───────────────┤\n",
       "│ l5 (\u001B[38;5;33mDense\u001B[0m)                      │ (\u001B[38;5;45mNone\u001B[0m, \u001B[38;5;34m10\u001B[0m)             │           \u001B[38;5;34m260\u001B[0m │\n",
       "└─────────────────────────────────┴────────────────────────┴───────────────┘\n"
      ],
      "text/html": [
       "<pre style=\"white-space:pre;overflow-x:auto;line-height:normal;font-family:Menlo,'DejaVu Sans Mono',consolas,'Courier New',monospace\">┏━━━━━━━━━━━━━━━━━━━━━━━━━━━━━━━━━┳━━━━━━━━━━━━━━━━━━━━━━━━┳━━━━━━━━━━━━━━━┓\n",
       "┃<span style=\"font-weight: bold\"> Layer (type)                    </span>┃<span style=\"font-weight: bold\"> Output Shape           </span>┃<span style=\"font-weight: bold\">       Param # </span>┃\n",
       "┡━━━━━━━━━━━━━━━━━━━━━━━━━━━━━━━━━╇━━━━━━━━━━━━━━━━━━━━━━━━╇━━━━━━━━━━━━━━━┩\n",
       "│ l0 (<span style=\"color: #0087ff; text-decoration-color: #0087ff\">InputLayer</span>)                 │ (<span style=\"color: #00d7ff; text-decoration-color: #00d7ff\">None</span>, <span style=\"color: #00af00; text-decoration-color: #00af00\">28</span>, <span style=\"color: #00af00; text-decoration-color: #00af00\">28</span>, <span style=\"color: #00af00; text-decoration-color: #00af00\">1</span>)      │             <span style=\"color: #00af00; text-decoration-color: #00af00\">0</span> │\n",
       "├─────────────────────────────────┼────────────────────────┼───────────────┤\n",
       "│ l1 (<span style=\"color: #0087ff; text-decoration-color: #0087ff\">Conv2D</span>)                     │ (<span style=\"color: #00d7ff; text-decoration-color: #00d7ff\">None</span>, <span style=\"color: #00af00; text-decoration-color: #00af00\">28</span>, <span style=\"color: #00af00; text-decoration-color: #00af00\">28</span>, <span style=\"color: #00af00; text-decoration-color: #00af00\">2</span>)      │            <span style=\"color: #00af00; text-decoration-color: #00af00\">52</span> │\n",
       "├─────────────────────────────────┼────────────────────────┼───────────────┤\n",
       "│ l1_mp (<span style=\"color: #0087ff; text-decoration-color: #0087ff\">MaxPooling2D</span>)            │ (<span style=\"color: #00d7ff; text-decoration-color: #00d7ff\">None</span>, <span style=\"color: #00af00; text-decoration-color: #00af00\">14</span>, <span style=\"color: #00af00; text-decoration-color: #00af00\">14</span>, <span style=\"color: #00af00; text-decoration-color: #00af00\">2</span>)      │             <span style=\"color: #00af00; text-decoration-color: #00af00\">0</span> │\n",
       "├─────────────────────────────────┼────────────────────────┼───────────────┤\n",
       "│ l2 (<span style=\"color: #0087ff; text-decoration-color: #0087ff\">Conv2D</span>)                     │ (<span style=\"color: #00d7ff; text-decoration-color: #00d7ff\">None</span>, <span style=\"color: #00af00; text-decoration-color: #00af00\">14</span>, <span style=\"color: #00af00; text-decoration-color: #00af00\">14</span>, <span style=\"color: #00af00; text-decoration-color: #00af00\">2</span>)      │           <span style=\"color: #00af00; text-decoration-color: #00af00\">102</span> │\n",
       "├─────────────────────────────────┼────────────────────────┼───────────────┤\n",
       "│ l2_mp (<span style=\"color: #0087ff; text-decoration-color: #0087ff\">MaxPooling2D</span>)            │ (<span style=\"color: #00d7ff; text-decoration-color: #00d7ff\">None</span>, <span style=\"color: #00af00; text-decoration-color: #00af00\">7</span>, <span style=\"color: #00af00; text-decoration-color: #00af00\">7</span>, <span style=\"color: #00af00; text-decoration-color: #00af00\">2</span>)        │             <span style=\"color: #00af00; text-decoration-color: #00af00\">0</span> │\n",
       "├─────────────────────────────────┼────────────────────────┼───────────────┤\n",
       "│ l3 (<span style=\"color: #0087ff; text-decoration-color: #0087ff\">Conv2D</span>)                     │ (<span style=\"color: #00d7ff; text-decoration-color: #00d7ff\">None</span>, <span style=\"color: #00af00; text-decoration-color: #00af00\">7</span>, <span style=\"color: #00af00; text-decoration-color: #00af00\">7</span>, <span style=\"color: #00af00; text-decoration-color: #00af00\">2</span>)        │            <span style=\"color: #00af00; text-decoration-color: #00af00\">38</span> │\n",
       "├─────────────────────────────────┼────────────────────────┼───────────────┤\n",
       "│ l3_mp (<span style=\"color: #0087ff; text-decoration-color: #0087ff\">MaxPooling2D</span>)            │ (<span style=\"color: #00d7ff; text-decoration-color: #00d7ff\">None</span>, <span style=\"color: #00af00; text-decoration-color: #00af00\">3</span>, <span style=\"color: #00af00; text-decoration-color: #00af00\">3</span>, <span style=\"color: #00af00; text-decoration-color: #00af00\">2</span>)        │             <span style=\"color: #00af00; text-decoration-color: #00af00\">0</span> │\n",
       "├─────────────────────────────────┼────────────────────────┼───────────────┤\n",
       "│ flat (<span style=\"color: #0087ff; text-decoration-color: #0087ff\">Flatten</span>)                  │ (<span style=\"color: #00d7ff; text-decoration-color: #00d7ff\">None</span>, <span style=\"color: #00af00; text-decoration-color: #00af00\">18</span>)             │             <span style=\"color: #00af00; text-decoration-color: #00af00\">0</span> │\n",
       "├─────────────────────────────────┼────────────────────────┼───────────────┤\n",
       "│ l4 (<span style=\"color: #0087ff; text-decoration-color: #0087ff\">Dense</span>)                      │ (<span style=\"color: #00d7ff; text-decoration-color: #00d7ff\">None</span>, <span style=\"color: #00af00; text-decoration-color: #00af00\">25</span>)             │           <span style=\"color: #00af00; text-decoration-color: #00af00\">475</span> │\n",
       "├─────────────────────────────────┼────────────────────────┼───────────────┤\n",
       "│ l5 (<span style=\"color: #0087ff; text-decoration-color: #0087ff\">Dense</span>)                      │ (<span style=\"color: #00d7ff; text-decoration-color: #00d7ff\">None</span>, <span style=\"color: #00af00; text-decoration-color: #00af00\">10</span>)             │           <span style=\"color: #00af00; text-decoration-color: #00af00\">260</span> │\n",
       "└─────────────────────────────────┴────────────────────────┴───────────────┘\n",
       "</pre>\n"
      ]
     },
     "metadata": {},
     "output_type": "display_data"
    },
    {
     "data": {
      "text/plain": [
       "\u001B[1m Total params: \u001B[0m\u001B[38;5;34m927\u001B[0m (3.62 KB)\n"
      ],
      "text/html": [
       "<pre style=\"white-space:pre;overflow-x:auto;line-height:normal;font-family:Menlo,'DejaVu Sans Mono',consolas,'Courier New',monospace\"><span style=\"font-weight: bold\"> Total params: </span><span style=\"color: #00af00; text-decoration-color: #00af00\">927</span> (3.62 KB)\n",
       "</pre>\n"
      ]
     },
     "metadata": {},
     "output_type": "display_data"
    },
    {
     "data": {
      "text/plain": [
       "\u001B[1m Trainable params: \u001B[0m\u001B[38;5;34m927\u001B[0m (3.62 KB)\n"
      ],
      "text/html": [
       "<pre style=\"white-space:pre;overflow-x:auto;line-height:normal;font-family:Menlo,'DejaVu Sans Mono',consolas,'Courier New',monospace\"><span style=\"font-weight: bold\"> Trainable params: </span><span style=\"color: #00af00; text-decoration-color: #00af00\">927</span> (3.62 KB)\n",
       "</pre>\n"
      ]
     },
     "metadata": {},
     "output_type": "display_data"
    },
    {
     "data": {
      "text/plain": [
       "\u001B[1m Non-trainable params: \u001B[0m\u001B[38;5;34m0\u001B[0m (0.00 B)\n"
      ],
      "text/html": [
       "<pre style=\"white-space:pre;overflow-x:auto;line-height:normal;font-family:Menlo,'DejaVu Sans Mono',consolas,'Courier New',monospace\"><span style=\"font-weight: bold\"> Non-trainable params: </span><span style=\"color: #00af00; text-decoration-color: #00af00\">0</span> (0.00 B)\n",
       "</pre>\n"
      ]
     },
     "metadata": {},
     "output_type": "display_data"
    }
   ],
   "execution_count": 25
  },
  {
   "cell_type": "markdown",
   "metadata": {
    "id": "sP_cugPCbfO6"
   },
   "source": [
    "Define some constants and train de CNN"
   ]
  },
  {
   "cell_type": "code",
   "metadata": {
    "colab": {
     "base_uri": "https://localhost:8080/"
    },
    "id": "l8eKqD80bfPB",
    "outputId": "2f4a1a3c-194b-4e89-beed-8f365be8c6ee",
    "ExecuteTime": {
     "end_time": "2024-05-12T15:20:22.908903Z",
     "start_time": "2024-05-12T15:19:04.583173Z"
    }
   },
   "source": [
    "from keras.src.optimizers import *\n",
    "\n",
    "batch_size = 128\n",
    "n_epoch = 50\n",
    "\n",
    "model.compile(loss='categorical_crossentropy', optimizer=RMSprop(), metrics=['accuracy'])\n",
    "\n",
    "history = model.fit(X_train, Y_train, batch_size=batch_size, epochs=n_epoch, verbose=1, validation_split=0.333)"
   ],
   "outputs": [
    {
     "name": "stdout",
     "output_type": "stream",
     "text": [
      "Epoch 1/50\n",
      "\u001B[1m313/313\u001B[0m \u001B[32m━━━━━━━━━━━━━━━━━━━━\u001B[0m\u001B[37m\u001B[0m \u001B[1m2s\u001B[0m 5ms/step - accuracy: 0.6082 - loss: 1.2796 - val_accuracy: 0.8724 - val_loss: 0.4289\n",
      "Epoch 2/50\n",
      "\u001B[1m313/313\u001B[0m \u001B[32m━━━━━━━━━━━━━━━━━━━━\u001B[0m\u001B[37m\u001B[0m \u001B[1m2s\u001B[0m 5ms/step - accuracy: 0.8798 - loss: 0.3862 - val_accuracy: 0.8942 - val_loss: 0.3399\n",
      "Epoch 3/50\n",
      "\u001B[1m313/313\u001B[0m \u001B[32m━━━━━━━━━━━━━━━━━━━━\u001B[0m\u001B[37m\u001B[0m \u001B[1m1s\u001B[0m 5ms/step - accuracy: 0.9128 - loss: 0.2880 - val_accuracy: 0.9245 - val_loss: 0.2483\n",
      "Epoch 4/50\n",
      "\u001B[1m313/313\u001B[0m \u001B[32m━━━━━━━━━━━━━━━━━━━━\u001B[0m\u001B[37m\u001B[0m \u001B[1m2s\u001B[0m 5ms/step - accuracy: 0.9293 - loss: 0.2256 - val_accuracy: 0.9371 - val_loss: 0.2122\n",
      "Epoch 5/50\n",
      "\u001B[1m313/313\u001B[0m \u001B[32m━━━━━━━━━━━━━━━━━━━━\u001B[0m\u001B[37m\u001B[0m \u001B[1m2s\u001B[0m 5ms/step - accuracy: 0.9403 - loss: 0.1968 - val_accuracy: 0.9453 - val_loss: 0.1889\n",
      "Epoch 6/50\n",
      "\u001B[1m313/313\u001B[0m \u001B[32m━━━━━━━━━━━━━━━━━━━━\u001B[0m\u001B[37m\u001B[0m \u001B[1m2s\u001B[0m 5ms/step - accuracy: 0.9424 - loss: 0.1820 - val_accuracy: 0.9425 - val_loss: 0.1863\n",
      "Epoch 7/50\n",
      "\u001B[1m313/313\u001B[0m \u001B[32m━━━━━━━━━━━━━━━━━━━━\u001B[0m\u001B[37m\u001B[0m \u001B[1m2s\u001B[0m 5ms/step - accuracy: 0.9468 - loss: 0.1704 - val_accuracy: 0.9492 - val_loss: 0.1662\n",
      "Epoch 8/50\n",
      "\u001B[1m313/313\u001B[0m \u001B[32m━━━━━━━━━━━━━━━━━━━━\u001B[0m\u001B[37m\u001B[0m \u001B[1m2s\u001B[0m 5ms/step - accuracy: 0.9496 - loss: 0.1615 - val_accuracy: 0.9449 - val_loss: 0.1785\n",
      "Epoch 9/50\n",
      "\u001B[1m313/313\u001B[0m \u001B[32m━━━━━━━━━━━━━━━━━━━━\u001B[0m\u001B[37m\u001B[0m \u001B[1m2s\u001B[0m 5ms/step - accuracy: 0.9534 - loss: 0.1457 - val_accuracy: 0.9260 - val_loss: 0.2388\n",
      "Epoch 10/50\n",
      "\u001B[1m313/313\u001B[0m \u001B[32m━━━━━━━━━━━━━━━━━━━━\u001B[0m\u001B[37m\u001B[0m \u001B[1m2s\u001B[0m 5ms/step - accuracy: 0.9556 - loss: 0.1388 - val_accuracy: 0.9526 - val_loss: 0.1527\n",
      "Epoch 11/50\n",
      "\u001B[1m313/313\u001B[0m \u001B[32m━━━━━━━━━━━━━━━━━━━━\u001B[0m\u001B[37m\u001B[0m \u001B[1m2s\u001B[0m 5ms/step - accuracy: 0.9593 - loss: 0.1283 - val_accuracy: 0.9497 - val_loss: 0.1576\n",
      "Epoch 12/50\n",
      "\u001B[1m313/313\u001B[0m \u001B[32m━━━━━━━━━━━━━━━━━━━━\u001B[0m\u001B[37m\u001B[0m \u001B[1m2s\u001B[0m 5ms/step - accuracy: 0.9607 - loss: 0.1232 - val_accuracy: 0.9536 - val_loss: 0.1501\n",
      "Epoch 13/50\n",
      "\u001B[1m313/313\u001B[0m \u001B[32m━━━━━━━━━━━━━━━━━━━━\u001B[0m\u001B[37m\u001B[0m \u001B[1m2s\u001B[0m 5ms/step - accuracy: 0.9641 - loss: 0.1156 - val_accuracy: 0.9567 - val_loss: 0.1441\n",
      "Epoch 14/50\n",
      "\u001B[1m313/313\u001B[0m \u001B[32m━━━━━━━━━━━━━━━━━━━━\u001B[0m\u001B[37m\u001B[0m \u001B[1m2s\u001B[0m 5ms/step - accuracy: 0.9630 - loss: 0.1177 - val_accuracy: 0.9535 - val_loss: 0.1447\n",
      "Epoch 15/50\n",
      "\u001B[1m313/313\u001B[0m \u001B[32m━━━━━━━━━━━━━━━━━━━━\u001B[0m\u001B[37m\u001B[0m \u001B[1m2s\u001B[0m 5ms/step - accuracy: 0.9663 - loss: 0.1109 - val_accuracy: 0.9548 - val_loss: 0.1477\n",
      "Epoch 16/50\n",
      "\u001B[1m313/313\u001B[0m \u001B[32m━━━━━━━━━━━━━━━━━━━━\u001B[0m\u001B[37m\u001B[0m \u001B[1m2s\u001B[0m 5ms/step - accuracy: 0.9649 - loss: 0.1104 - val_accuracy: 0.9615 - val_loss: 0.1283\n",
      "Epoch 17/50\n",
      "\u001B[1m313/313\u001B[0m \u001B[32m━━━━━━━━━━━━━━━━━━━━\u001B[0m\u001B[37m\u001B[0m \u001B[1m2s\u001B[0m 5ms/step - accuracy: 0.9665 - loss: 0.1060 - val_accuracy: 0.9581 - val_loss: 0.1370\n",
      "Epoch 18/50\n",
      "\u001B[1m313/313\u001B[0m \u001B[32m━━━━━━━━━━━━━━━━━━━━\u001B[0m\u001B[37m\u001B[0m \u001B[1m2s\u001B[0m 5ms/step - accuracy: 0.9680 - loss: 0.1024 - val_accuracy: 0.9619 - val_loss: 0.1226\n",
      "Epoch 19/50\n",
      "\u001B[1m313/313\u001B[0m \u001B[32m━━━━━━━━━━━━━━━━━━━━\u001B[0m\u001B[37m\u001B[0m \u001B[1m2s\u001B[0m 5ms/step - accuracy: 0.9679 - loss: 0.0982 - val_accuracy: 0.9614 - val_loss: 0.1270\n",
      "Epoch 20/50\n",
      "\u001B[1m313/313\u001B[0m \u001B[32m━━━━━━━━━━━━━━━━━━━━\u001B[0m\u001B[37m\u001B[0m \u001B[1m2s\u001B[0m 5ms/step - accuracy: 0.9688 - loss: 0.1019 - val_accuracy: 0.9562 - val_loss: 0.1490\n",
      "Epoch 21/50\n",
      "\u001B[1m313/313\u001B[0m \u001B[32m━━━━━━━━━━━━━━━━━━━━\u001B[0m\u001B[37m\u001B[0m \u001B[1m2s\u001B[0m 5ms/step - accuracy: 0.9699 - loss: 0.0932 - val_accuracy: 0.9614 - val_loss: 0.1261\n",
      "Epoch 22/50\n",
      "\u001B[1m313/313\u001B[0m \u001B[32m━━━━━━━━━━━━━━━━━━━━\u001B[0m\u001B[37m\u001B[0m \u001B[1m2s\u001B[0m 5ms/step - accuracy: 0.9698 - loss: 0.0920 - val_accuracy: 0.9642 - val_loss: 0.1185\n",
      "Epoch 23/50\n",
      "\u001B[1m313/313\u001B[0m \u001B[32m━━━━━━━━━━━━━━━━━━━━\u001B[0m\u001B[37m\u001B[0m \u001B[1m2s\u001B[0m 5ms/step - accuracy: 0.9714 - loss: 0.0897 - val_accuracy: 0.9641 - val_loss: 0.1198\n",
      "Epoch 24/50\n",
      "\u001B[1m313/313\u001B[0m \u001B[32m━━━━━━━━━━━━━━━━━━━━\u001B[0m\u001B[37m\u001B[0m \u001B[1m1s\u001B[0m 5ms/step - accuracy: 0.9713 - loss: 0.0905 - val_accuracy: 0.9639 - val_loss: 0.1181\n",
      "Epoch 25/50\n",
      "\u001B[1m313/313\u001B[0m \u001B[32m━━━━━━━━━━━━━━━━━━━━\u001B[0m\u001B[37m\u001B[0m \u001B[1m1s\u001B[0m 5ms/step - accuracy: 0.9723 - loss: 0.0871 - val_accuracy: 0.9651 - val_loss: 0.1175\n",
      "Epoch 26/50\n",
      "\u001B[1m313/313\u001B[0m \u001B[32m━━━━━━━━━━━━━━━━━━━━\u001B[0m\u001B[37m\u001B[0m \u001B[1m2s\u001B[0m 5ms/step - accuracy: 0.9742 - loss: 0.0810 - val_accuracy: 0.9661 - val_loss: 0.1148\n",
      "Epoch 27/50\n",
      "\u001B[1m313/313\u001B[0m \u001B[32m━━━━━━━━━━━━━━━━━━━━\u001B[0m\u001B[37m\u001B[0m \u001B[1m1s\u001B[0m 5ms/step - accuracy: 0.9727 - loss: 0.0824 - val_accuracy: 0.9642 - val_loss: 0.1206\n",
      "Epoch 28/50\n",
      "\u001B[1m313/313\u001B[0m \u001B[32m━━━━━━━━━━━━━━━━━━━━\u001B[0m\u001B[37m\u001B[0m \u001B[1m2s\u001B[0m 5ms/step - accuracy: 0.9728 - loss: 0.0825 - val_accuracy: 0.9648 - val_loss: 0.1173\n",
      "Epoch 29/50\n",
      "\u001B[1m313/313\u001B[0m \u001B[32m━━━━━━━━━━━━━━━━━━━━\u001B[0m\u001B[37m\u001B[0m \u001B[1m2s\u001B[0m 5ms/step - accuracy: 0.9730 - loss: 0.0817 - val_accuracy: 0.9661 - val_loss: 0.1158\n",
      "Epoch 30/50\n",
      "\u001B[1m313/313\u001B[0m \u001B[32m━━━━━━━━━━━━━━━━━━━━\u001B[0m\u001B[37m\u001B[0m \u001B[1m2s\u001B[0m 5ms/step - accuracy: 0.9732 - loss: 0.0840 - val_accuracy: 0.9684 - val_loss: 0.1113\n",
      "Epoch 31/50\n",
      "\u001B[1m313/313\u001B[0m \u001B[32m━━━━━━━━━━━━━━━━━━━━\u001B[0m\u001B[37m\u001B[0m \u001B[1m2s\u001B[0m 5ms/step - accuracy: 0.9751 - loss: 0.0767 - val_accuracy: 0.9662 - val_loss: 0.1146\n",
      "Epoch 32/50\n",
      "\u001B[1m313/313\u001B[0m \u001B[32m━━━━━━━━━━━━━━━━━━━━\u001B[0m\u001B[37m\u001B[0m \u001B[1m2s\u001B[0m 5ms/step - accuracy: 0.9755 - loss: 0.0746 - val_accuracy: 0.9573 - val_loss: 0.1416\n",
      "Epoch 33/50\n",
      "\u001B[1m313/313\u001B[0m \u001B[32m━━━━━━━━━━━━━━━━━━━━\u001B[0m\u001B[37m\u001B[0m \u001B[1m1s\u001B[0m 5ms/step - accuracy: 0.9764 - loss: 0.0752 - val_accuracy: 0.9654 - val_loss: 0.1174\n",
      "Epoch 34/50\n",
      "\u001B[1m313/313\u001B[0m \u001B[32m━━━━━━━━━━━━━━━━━━━━\u001B[0m\u001B[37m\u001B[0m \u001B[1m2s\u001B[0m 5ms/step - accuracy: 0.9770 - loss: 0.0722 - val_accuracy: 0.9622 - val_loss: 0.1242\n",
      "Epoch 35/50\n",
      "\u001B[1m313/313\u001B[0m \u001B[32m━━━━━━━━━━━━━━━━━━━━\u001B[0m\u001B[37m\u001B[0m \u001B[1m2s\u001B[0m 5ms/step - accuracy: 0.9766 - loss: 0.0719 - val_accuracy: 0.9628 - val_loss: 0.1217\n",
      "Epoch 36/50\n",
      "\u001B[1m313/313\u001B[0m \u001B[32m━━━━━━━━━━━━━━━━━━━━\u001B[0m\u001B[37m\u001B[0m \u001B[1m2s\u001B[0m 5ms/step - accuracy: 0.9774 - loss: 0.0699 - val_accuracy: 0.9674 - val_loss: 0.1082\n",
      "Epoch 37/50\n",
      "\u001B[1m313/313\u001B[0m \u001B[32m━━━━━━━━━━━━━━━━━━━━\u001B[0m\u001B[37m\u001B[0m \u001B[1m2s\u001B[0m 5ms/step - accuracy: 0.9766 - loss: 0.0721 - val_accuracy: 0.9673 - val_loss: 0.1107\n",
      "Epoch 38/50\n",
      "\u001B[1m313/313\u001B[0m \u001B[32m━━━━━━━━━━━━━━━━━━━━\u001B[0m\u001B[37m\u001B[0m \u001B[1m2s\u001B[0m 5ms/step - accuracy: 0.9782 - loss: 0.0681 - val_accuracy: 0.9672 - val_loss: 0.1105\n",
      "Epoch 39/50\n",
      "\u001B[1m313/313\u001B[0m \u001B[32m━━━━━━━━━━━━━━━━━━━━\u001B[0m\u001B[37m\u001B[0m \u001B[1m2s\u001B[0m 5ms/step - accuracy: 0.9793 - loss: 0.0665 - val_accuracy: 0.9660 - val_loss: 0.1156\n",
      "Epoch 40/50\n",
      "\u001B[1m313/313\u001B[0m \u001B[32m━━━━━━━━━━━━━━━━━━━━\u001B[0m\u001B[37m\u001B[0m \u001B[1m1s\u001B[0m 5ms/step - accuracy: 0.9764 - loss: 0.0708 - val_accuracy: 0.9683 - val_loss: 0.1077\n",
      "Epoch 41/50\n",
      "\u001B[1m313/313\u001B[0m \u001B[32m━━━━━━━━━━━━━━━━━━━━\u001B[0m\u001B[37m\u001B[0m \u001B[1m2s\u001B[0m 5ms/step - accuracy: 0.9780 - loss: 0.0660 - val_accuracy: 0.9687 - val_loss: 0.1094\n",
      "Epoch 42/50\n",
      "\u001B[1m313/313\u001B[0m \u001B[32m━━━━━━━━━━━━━━━━━━━━\u001B[0m\u001B[37m\u001B[0m \u001B[1m2s\u001B[0m 5ms/step - accuracy: 0.9787 - loss: 0.0671 - val_accuracy: 0.9676 - val_loss: 0.1095\n",
      "Epoch 43/50\n",
      "\u001B[1m313/313\u001B[0m \u001B[32m━━━━━━━━━━━━━━━━━━━━\u001B[0m\u001B[37m\u001B[0m \u001B[1m2s\u001B[0m 5ms/step - accuracy: 0.9793 - loss: 0.0619 - val_accuracy: 0.9681 - val_loss: 0.1078\n",
      "Epoch 44/50\n",
      "\u001B[1m313/313\u001B[0m \u001B[32m━━━━━━━━━━━━━━━━━━━━\u001B[0m\u001B[37m\u001B[0m \u001B[1m2s\u001B[0m 5ms/step - accuracy: 0.9791 - loss: 0.0634 - val_accuracy: 0.9657 - val_loss: 0.1181\n",
      "Epoch 45/50\n",
      "\u001B[1m313/313\u001B[0m \u001B[32m━━━━━━━━━━━━━━━━━━━━\u001B[0m\u001B[37m\u001B[0m \u001B[1m2s\u001B[0m 5ms/step - accuracy: 0.9790 - loss: 0.0637 - val_accuracy: 0.9689 - val_loss: 0.1090\n",
      "Epoch 46/50\n",
      "\u001B[1m313/313\u001B[0m \u001B[32m━━━━━━━━━━━━━━━━━━━━\u001B[0m\u001B[37m\u001B[0m \u001B[1m2s\u001B[0m 5ms/step - accuracy: 0.9793 - loss: 0.0622 - val_accuracy: 0.9686 - val_loss: 0.1086\n",
      "Epoch 47/50\n",
      "\u001B[1m313/313\u001B[0m \u001B[32m━━━━━━━━━━━━━━━━━━━━\u001B[0m\u001B[37m\u001B[0m \u001B[1m2s\u001B[0m 5ms/step - accuracy: 0.9788 - loss: 0.0626 - val_accuracy: 0.9674 - val_loss: 0.1148\n",
      "Epoch 48/50\n",
      "\u001B[1m313/313\u001B[0m \u001B[32m━━━━━━━━━━━━━━━━━━━━\u001B[0m\u001B[37m\u001B[0m \u001B[1m2s\u001B[0m 5ms/step - accuracy: 0.9794 - loss: 0.0625 - val_accuracy: 0.9699 - val_loss: 0.1041\n",
      "Epoch 49/50\n",
      "\u001B[1m313/313\u001B[0m \u001B[32m━━━━━━━━━━━━━━━━━━━━\u001B[0m\u001B[37m\u001B[0m \u001B[1m2s\u001B[0m 5ms/step - accuracy: 0.9809 - loss: 0.0595 - val_accuracy: 0.9654 - val_loss: 0.1205\n",
      "Epoch 50/50\n",
      "\u001B[1m313/313\u001B[0m \u001B[32m━━━━━━━━━━━━━━━━━━━━\u001B[0m\u001B[37m\u001B[0m \u001B[1m2s\u001B[0m 5ms/step - accuracy: 0.9798 - loss: 0.0609 - val_accuracy: 0.9673 - val_loss: 0.1172\n"
     ]
    }
   ],
   "execution_count": 22
  },
  {
   "metadata": {},
   "cell_type": "markdown",
   "source": ""
  },
  {
   "cell_type": "markdown",
   "metadata": {
    "id": "IBX2Tc_0bfPK"
   },
   "source": [
    "Show the performance of the model"
   ]
  },
  {
   "cell_type": "code",
   "metadata": {
    "colab": {
     "base_uri": "https://localhost:8080/",
     "height": 467
    },
    "id": "WeaMjl-EbfPS",
    "outputId": "621f5dd2-6207-448d-e123-074551d2c064",
    "ExecuteTime": {
     "end_time": "2024-05-12T15:20:23.683826Z",
     "start_time": "2024-05-12T15:20:22.910409Z"
    }
   },
   "source": [
    "pl.plot(history.history['loss'], label='Training')\n",
    "pl.plot(history.history['val_loss'], label='Testing')\n",
    "pl.legend()\n",
    "pl.grid()\n",
    "\n",
    "score = model.evaluate(X_test, Y_test, verbose=0)\n",
    "print('Test score (loss):', score[0])\n",
    "print('Test accuracy:', score[1])"
   ],
   "outputs": [
    {
     "name": "stdout",
     "output_type": "stream",
     "text": [
      "Test score (loss): 0.09408139437437057\n",
      "Test accuracy: 0.9721999764442444\n"
     ]
    },
    {
     "data": {
      "text/plain": [
       "<Figure size 640x480 with 1 Axes>"
      ],
      "image/png": "[encoded data removed]"
     },
     "metadata": {},
     "output_type": "display_data"
    }
   ],
   "execution_count": 23
  },
  {
   "cell_type": "markdown",
   "metadata": {
    "id": "rXNZ2ZHSbfPm"
   },
   "source": [
    "Confusion matrix"
   ]
  },
  {
   "cell_type": "code",
   "metadata": {
    "colab": {
     "base_uri": "https://localhost:8080/"
    },
    "id": "XfgRipFebfPm",
    "outputId": "48337b04-7049-45a3-c832-09aa3a77bd8c",
    "ExecuteTime": {
     "end_time": "2024-05-12T15:20:24.412142Z",
     "start_time": "2024-05-12T15:20:23.685329Z"
    }
   },
   "source": [
    "from sklearn.metrics import confusion_matrix\n",
    "\n",
    "pred = model.predict(X_test)\n",
    "print('pred.shape = ', pred.shape)\n",
    "pred = np.argmax(pred, axis=-1)\n",
    "confusion_matrix(y_test, pred)"
   ],
   "outputs": [
    {
     "name": "stdout",
     "output_type": "stream",
     "text": [
      "\u001B[1m313/313\u001B[0m \u001B[32m━━━━━━━━━━━━━━━━━━━━\u001B[0m\u001B[37m\u001B[0m \u001B[1m1s\u001B[0m 2ms/step\n",
      "pred.shape =  (10000, 10)\n"
     ]
    },
    {
     "data": {
      "text/plain": [
       "array([[ 966,    2,    0,    1,    0,    2,    3,    1,    5,    0],\n",
       "       [   0, 1120,    8,    0,    0,    0,    4,    0,    3,    0],\n",
       "       [   5,    0, 1013,    4,    0,    1,    0,    2,    6,    1],\n",
       "       [   1,    0,   13,  979,    0,   13,    0,    4,    0,    0],\n",
       "       [   0,    0,    5,    0,  968,    0,    4,    0,    1,    4],\n",
       "       [   6,    0,    1,    8,    0,  874,    1,    0,    1,    1],\n",
       "       [   9,    1,    3,    0,    2,    4,  935,    0,    4,    0],\n",
       "       [   0,    2,   22,    6,    0,    0,    0,  990,    6,    2],\n",
       "       [  17,    1,   10,    3,    1,    4,    4,    6,  926,    2],\n",
       "       [   4,    1,    7,    4,   11,    7,    0,   12,   12,  951]],\n",
       "      dtype=int64)"
      ]
     },
     "execution_count": 24,
     "metadata": {},
     "output_type": "execute_result"
    }
   ],
   "execution_count": 24
  },
  {
   "cell_type": "code",
   "source": [],
   "metadata": {
    "collapsed": false,
    "ExecuteTime": {
     "end_time": "2024-05-12T15:20:24.427390Z",
     "start_time": "2024-05-12T15:20:24.414645Z"
    }
   },
   "outputs": [],
   "execution_count": 24
  }
 ],
 "metadata": {
  "accelerator": "GPU",
  "colab": {
   "provenance": []
  },
  "kernelspec": {
   "display_name": "Python 3 (ipykernel)",
   "language": "python",
   "name": "python3"
  },
  "language_info": {
   "codemirror_mode": {
    "name": "ipython",
    "version": 3
   },
   "file_extension": ".py",
   "mimetype": "text/x-python",
   "name": "python",
   "nbconvert_exporter": "python",
   "pygments_lexer": "ipython3",
   "version": "3.9.16"
  }
 },
 "nbformat": 4,
 "nbformat_minor": 0
}
