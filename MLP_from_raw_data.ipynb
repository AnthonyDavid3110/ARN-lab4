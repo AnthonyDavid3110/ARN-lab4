{
 "cells": [
  {
   "cell_type": "markdown",
   "metadata": {
    "id": "Ic-cqm0tbUc3"
   },
   "source": [
    "# Multilayer Perceptron from raw data\n",
    "This notebook will guide you through the use of the `keras` package to train a multilayer perceptron for handwritten digits classification. You are going to use the `mnist` dataset from LeCun et al. 1998"
   ]
  },
  {
   "cell_type": "markdown",
   "metadata": {
    "id": "ND1Cf9lXbUc6"
   },
   "source": [
    "## Loading the packages"
   ]
  },
  {
   "cell_type": "code",
   "metadata": {
    "id": "Pvq0DhLtbUdE",
    "colab": {
     "base_uri": "https://localhost:8080/",
     "height": 1000
    },
    "outputId": "5f514e5b-11e7-4d79-900b-b44aa1f8e504",
    "ExecuteTime": {
     "end_time": "2024-05-12T10:30:38.814837Z",
     "start_time": "2024-05-12T10:30:35.051787Z"
    }
   },
   "source": [
    "%pip install tensorflow --upgrade\n",
    "%pip install keras --upgrade\n",
    "\n",
    "import numpy as np\n",
    "from matplotlib import pyplot as pl\n",
    "\n",
    "from tensorflow.keras.datasets import mnist\n",
    "from tensorflow.keras.models import Sequential\n",
    "from tensorflow.keras.layers import Dense, Dropout\n",
    "from tensorflow.keras.optimizers import RMSprop\n",
    "from sklearn import metrics as me\n",
    "\n",
    "%matplotlib inline"
   ],
   "outputs": [
    {
     "name": "stdout",
     "output_type": "stream",
     "text": [
      "Defaulting to user installation because normal site-packages is not writeable\n",
      "Requirement already satisfied: tensorflow in c:\\users\\anthony\\appdata\\roaming\\python\\python39\\site-packages (2.16.1)\n",
      "Requirement already satisfied: tensorflow-intel==2.16.1 in c:\\users\\anthony\\appdata\\roaming\\python\\python39\\site-packages (from tensorflow) (2.16.1)\n",
      "Requirement already satisfied: absl-py>=1.0.0 in c:\\users\\anthony\\appdata\\roaming\\python\\python39\\site-packages (from tensorflow-intel==2.16.1->tensorflow) (2.1.0)\n",
      "Requirement already satisfied: astunparse>=1.6.0 in c:\\users\\anthony\\appdata\\roaming\\python\\python39\\site-packages (from tensorflow-intel==2.16.1->tensorflow) (1.6.3)\n",
      "Requirement already satisfied: flatbuffers>=23.5.26 in c:\\users\\anthony\\appdata\\roaming\\python\\python39\\site-packages (from tensorflow-intel==2.16.1->tensorflow) (24.3.25)\n",
      "Requirement already satisfied: gast!=0.5.0,!=0.5.1,!=0.5.2,>=0.2.1 in c:\\users\\anthony\\appdata\\roaming\\python\\python39\\site-packages (from tensorflow-intel==2.16.1->tensorflow) (0.5.4)\n",
      "Requirement already satisfied: google-pasta>=0.1.1 in c:\\users\\anthony\\appdata\\roaming\\python\\python39\\site-packages (from tensorflow-intel==2.16.1->tensorflow) (0.2.0)\n",
      "Requirement already satisfied: h5py>=3.10.0 in c:\\users\\anthony\\appdata\\roaming\\python\\python39\\site-packages (from tensorflow-intel==2.16.1->tensorflow) (3.11.0)\n",
      "Requirement already satisfied: libclang>=13.0.0 in c:\\users\\anthony\\appdata\\roaming\\python\\python39\\site-packages (from tensorflow-intel==2.16.1->tensorflow) (18.1.1)\n",
      "Requirement already satisfied: ml-dtypes~=0.3.1 in c:\\users\\anthony\\appdata\\roaming\\python\\python39\\site-packages (from tensorflow-intel==2.16.1->tensorflow) (0.3.2)\n",
      "Requirement already satisfied: opt-einsum>=2.3.2 in c:\\users\\anthony\\appdata\\roaming\\python\\python39\\site-packages (from tensorflow-intel==2.16.1->tensorflow) (3.3.0)\n",
      "Requirement already satisfied: packaging in c:\\program files\\python39\\lib\\site-packages (from tensorflow-intel==2.16.1->tensorflow) (24.0)\n",
      "Requirement already satisfied: protobuf!=4.21.0,!=4.21.1,!=4.21.2,!=4.21.3,!=4.21.4,!=4.21.5,<5.0.0dev,>=3.20.3 in c:\\users\\anthony\\appdata\\roaming\\python\\python39\\site-packages (from tensorflow-intel==2.16.1->tensorflow) (4.25.3)\n",
      "Requirement already satisfied: requests<3,>=2.21.0 in c:\\program files\\python39\\lib\\site-packages (from tensorflow-intel==2.16.1->tensorflow) (2.31.0)\n",
      "Requirement already satisfied: setuptools in c:\\program files\\python39\\lib\\site-packages (from tensorflow-intel==2.16.1->tensorflow) (65.3.0)\n",
      "Requirement already satisfied: six>=1.12.0 in c:\\program files\\python39\\lib\\site-packages (from tensorflow-intel==2.16.1->tensorflow) (1.16.0)\n",
      "Requirement already satisfied: termcolor>=1.1.0 in c:\\users\\anthony\\appdata\\roaming\\python\\python39\\site-packages (from tensorflow-intel==2.16.1->tensorflow) (2.4.0)\n",
      "Requirement already satisfied: typing-extensions>=3.6.6 in c:\\program files\\python39\\lib\\site-packages (from tensorflow-intel==2.16.1->tensorflow) (4.11.0)\n",
      "Requirement already satisfied: wrapt>=1.11.0 in c:\\users\\anthony\\appdata\\roaming\\python\\python39\\site-packages (from tensorflow-intel==2.16.1->tensorflow) (1.16.0)\n",
      "Requirement already satisfied: grpcio<2.0,>=1.24.3 in c:\\users\\anthony\\appdata\\roaming\\python\\python39\\site-packages (from tensorflow-intel==2.16.1->tensorflow) (1.63.0)\n",
      "Requirement already satisfied: tensorboard<2.17,>=2.16 in c:\\users\\anthony\\appdata\\roaming\\python\\python39\\site-packages (from tensorflow-intel==2.16.1->tensorflow) (2.16.2)\n",
      "Requirement already satisfied: keras>=3.0.0 in c:\\users\\anthony\\appdata\\roaming\\python\\python39\\site-packages (from tensorflow-intel==2.16.1->tensorflow) (3.3.3)\n",
      "Requirement already satisfied: tensorflow-io-gcs-filesystem>=0.23.1 in c:\\users\\anthony\\appdata\\roaming\\python\\python39\\site-packages (from tensorflow-intel==2.16.1->tensorflow) (0.31.0)\n",
      "Requirement already satisfied: numpy<2.0.0,>=1.23.5 in c:\\users\\anthony\\appdata\\roaming\\python\\python39\\site-packages (from tensorflow-intel==2.16.1->tensorflow) (1.26.4)\n",
      "Requirement already satisfied: wheel<1.0,>=0.23.0 in c:\\users\\anthony\\appdata\\roaming\\python\\python39\\site-packages (from astunparse>=1.6.0->tensorflow-intel==2.16.1->tensorflow) (0.43.0)\n",
      "Requirement already satisfied: rich in c:\\users\\anthony\\appdata\\roaming\\python\\python39\\site-packages (from keras>=3.0.0->tensorflow-intel==2.16.1->tensorflow) (13.7.1)\n",
      "Requirement already satisfied: namex in c:\\users\\anthony\\appdata\\roaming\\python\\python39\\site-packages (from keras>=3.0.0->tensorflow-intel==2.16.1->tensorflow) (0.0.8)\n",
      "Requirement already satisfied: optree in c:\\users\\anthony\\appdata\\roaming\\python\\python39\\site-packages (from keras>=3.0.0->tensorflow-intel==2.16.1->tensorflow) (0.11.0)\n",
      "Requirement already satisfied: charset-normalizer<4,>=2 in c:\\program files\\python39\\lib\\site-packages (from requests<3,>=2.21.0->tensorflow-intel==2.16.1->tensorflow) (3.3.1)\n",
      "Requirement already satisfied: idna<4,>=2.5 in c:\\program files\\python39\\lib\\site-packages (from requests<3,>=2.21.0->tensorflow-intel==2.16.1->tensorflow) (3.4)\n",
      "Requirement already satisfied: urllib3<3,>=1.21.1 in c:\\program files\\python39\\lib\\site-packages (from requests<3,>=2.21.0->tensorflow-intel==2.16.1->tensorflow) (2.0.7)\n",
      "Requirement already satisfied: certifi>=2017.4.17 in c:\\program files\\python39\\lib\\site-packages (from requests<3,>=2.21.0->tensorflow-intel==2.16.1->tensorflow) (2023.7.22)\n",
      "Requirement already satisfied: markdown>=2.6.8 in c:\\users\\anthony\\appdata\\roaming\\python\\python39\\site-packages (from tensorboard<2.17,>=2.16->tensorflow-intel==2.16.1->tensorflow) (3.6)\n",
      "Requirement already satisfied: tensorboard-data-server<0.8.0,>=0.7.0 in c:\\users\\anthony\\appdata\\roaming\\python\\python39\\site-packages (from tensorboard<2.17,>=2.16->tensorflow-intel==2.16.1->tensorflow) (0.7.2)\n",
      "Requirement already satisfied: werkzeug>=1.0.1 in c:\\users\\anthony\\appdata\\roaming\\python\\python39\\site-packages (from tensorboard<2.17,>=2.16->tensorflow-intel==2.16.1->tensorflow) (3.0.3)\n",
      "Requirement already satisfied: importlib-metadata>=4.4 in c:\\program files\\python39\\lib\\site-packages (from markdown>=2.6.8->tensorboard<2.17,>=2.16->tensorflow-intel==2.16.1->tensorflow) (7.1.0)\n",
      "Requirement already satisfied: MarkupSafe>=2.1.1 in c:\\program files\\python39\\lib\\site-packages (from werkzeug>=1.0.1->tensorboard<2.17,>=2.16->tensorflow-intel==2.16.1->tensorflow) (2.1.5)\n",
      "Requirement already satisfied: markdown-it-py>=2.2.0 in c:\\users\\anthony\\appdata\\roaming\\python\\python39\\site-packages (from rich->keras>=3.0.0->tensorflow-intel==2.16.1->tensorflow) (3.0.0)\n",
      "Requirement already satisfied: pygments<3.0.0,>=2.13.0 in c:\\program files\\python39\\lib\\site-packages (from rich->keras>=3.0.0->tensorflow-intel==2.16.1->tensorflow) (2.17.2)\n",
      "Requirement already satisfied: zipp>=0.5 in c:\\program files\\python39\\lib\\site-packages (from importlib-metadata>=4.4->markdown>=2.6.8->tensorboard<2.17,>=2.16->tensorflow-intel==2.16.1->tensorflow) (3.18.1)\n",
      "Requirement already satisfied: mdurl~=0.1 in c:\\users\\anthony\\appdata\\roaming\\python\\python39\\site-packages (from markdown-it-py>=2.2.0->rich->keras>=3.0.0->tensorflow-intel==2.16.1->tensorflow) (0.1.2)\n",
      "Note: you may need to restart the kernel to use updated packages.\n",
      "Defaulting to user installation because normal site-packages is not writeable\n",
      "Requirement already satisfied: keras in c:\\users\\anthony\\appdata\\roaming\\python\\python39\\site-packages (3.3.3)\n",
      "Requirement already satisfied: absl-py in c:\\users\\anthony\\appdata\\roaming\\python\\python39\\site-packages (from keras) (2.1.0)\n",
      "Requirement already satisfied: numpy in c:\\users\\anthony\\appdata\\roaming\\python\\python39\\site-packages (from keras) (1.26.4)\n",
      "Requirement already satisfied: rich in c:\\users\\anthony\\appdata\\roaming\\python\\python39\\site-packages (from keras) (13.7.1)\n",
      "Requirement already satisfied: namex in c:\\users\\anthony\\appdata\\roaming\\python\\python39\\site-packages (from keras) (0.0.8)\n",
      "Requirement already satisfied: h5py in c:\\users\\anthony\\appdata\\roaming\\python\\python39\\site-packages (from keras) (3.11.0)\n",
      "Requirement already satisfied: optree in c:\\users\\anthony\\appdata\\roaming\\python\\python39\\site-packages (from keras) (0.11.0)\n",
      "Requirement already satisfied: ml-dtypes in c:\\users\\anthony\\appdata\\roaming\\python\\python39\\site-packages (from keras) (0.3.2)\n",
      "Requirement already satisfied: typing-extensions>=4.0.0 in c:\\program files\\python39\\lib\\site-packages (from optree->keras) (4.11.0)\n",
      "Requirement already satisfied: markdown-it-py>=2.2.0 in c:\\users\\anthony\\appdata\\roaming\\python\\python39\\site-packages (from rich->keras) (3.0.0)\n",
      "Requirement already satisfied: pygments<3.0.0,>=2.13.0 in c:\\program files\\python39\\lib\\site-packages (from rich->keras) (2.17.2)\n",
      "Requirement already satisfied: mdurl~=0.1 in c:\\users\\anthony\\appdata\\roaming\\python\\python39\\site-packages (from markdown-it-py>=2.2.0->rich->keras) (0.1.2)\n",
      "Note: you may need to restart the kernel to use updated packages.\n"
     ]
    }
   ],
   "execution_count": 33
  },
  {
   "cell_type": "markdown",
   "metadata": {
    "id": "Vy0wRnm2bUde"
   },
   "source": [
    "## Using raw data to train a MLP\n",
    "First load the `mnist` dataset and normalize it to be in the range [0, 1]"
   ]
  },
  {
   "cell_type": "code",
   "metadata": {
    "colab": {
     "base_uri": "https://localhost:8080/"
    },
    "id": "8CKuJwcibUdi",
    "outputId": "c86e03bc-50b3-4eb4-87a5-f37e47977427",
    "ExecuteTime": {
     "end_time": "2024-05-12T10:30:39.078330Z",
     "start_time": "2024-05-12T10:30:38.816334Z"
    }
   },
   "source": [
    "from tensorflow.keras.utils import to_categorical\n",
    "\n",
    "(X_train, y_train), (X_test, y_test) = mnist.load_data()\n",
    "\n",
    "X_train = X_train.reshape(60000, 784)\n",
    "X_test = X_test.reshape(10000, 784)\n",
    "X_train = X_train.astype('float32')\n",
    "X_test = X_test.astype('float32')\n",
    "X_train /= 255\n",
    "X_test /= 255\n",
    "print(X_train.shape[0], 'train samples')\n",
    "print(X_test.shape[0], 'test samples')\n",
    "\n",
    "n_classes = 10\n",
    "# convert class vectors to binary class matrices\n",
    "Y_train = to_categorical(y_train, n_classes)\n",
    "Y_test = to_categorical(y_test, n_classes)"
   ],
   "outputs": [
    {
     "name": "stdout",
     "output_type": "stream",
     "text": [
      "60000 train samples\n",
      "10000 test samples\n"
     ]
    }
   ],
   "execution_count": 34
  },
  {
   "cell_type": "markdown",
   "metadata": {
    "id": "01XwVeDNbUdv"
   },
   "source": [
    "Create the MLP"
   ]
  },
  {
   "cell_type": "code",
   "metadata": {
    "colab": {
     "base_uri": "https://localhost:8080/",
     "height": 204
    },
    "id": "DNgzrBJEbUd0",
    "outputId": "311fe53d-a96e-4720-9b90-a2940a15d452",
    "ExecuteTime": {
     "end_time": "2024-05-12T10:30:39.109437Z",
     "start_time": "2024-05-12T10:30:39.079836Z"
    }
   },
   "source": [
    "model = Sequential()\n",
    "model.add(Dense(50, input_shape=(784,), activation='sigmoid'))\n",
    "#model.add(Dropout(0.5))\n",
    "model.add(Dense(n_classes, activation='softmax'))\n",
    "\n",
    "model.summary()"
   ],
   "outputs": [
    {
     "name": "stderr",
     "output_type": "stream",
     "text": [
      "C:\\Users\\Anthony\\AppData\\Roaming\\Python\\Python39\\site-packages\\keras\\src\\layers\\core\\dense.py:87: UserWarning: Do not pass an `input_shape`/`input_dim` argument to a layer. When using Sequential models, prefer using an `Input(shape)` object as the first layer in the model instead.\n",
      "  super().__init__(activity_regularizer=activity_regularizer, **kwargs)\n"
     ]
    },
    {
     "data": {
      "text/plain": [
       "\u001B[1mModel: \"sequential_7\"\u001B[0m\n"
      ],
      "text/html": [
       "<pre style=\"white-space:pre;overflow-x:auto;line-height:normal;font-family:Menlo,'DejaVu Sans Mono',consolas,'Courier New',monospace\"><span style=\"font-weight: bold\">Model: \"sequential_7\"</span>\n",
       "</pre>\n"
      ]
     },
     "metadata": {},
     "output_type": "display_data"
    },
    {
     "data": {
      "text/plain": [
       "┏━━━━━━━━━━━━━━━━━━━━━━━━━━━━━━━━━┳━━━━━━━━━━━━━━━━━━━━━━━━┳━━━━━━━━━━━━━━━┓\n",
       "┃\u001B[1m \u001B[0m\u001B[1mLayer (type)                   \u001B[0m\u001B[1m \u001B[0m┃\u001B[1m \u001B[0m\u001B[1mOutput Shape          \u001B[0m\u001B[1m \u001B[0m┃\u001B[1m \u001B[0m\u001B[1m      Param #\u001B[0m\u001B[1m \u001B[0m┃\n",
       "┡━━━━━━━━━━━━━━━━━━━━━━━━━━━━━━━━━╇━━━━━━━━━━━━━━━━━━━━━━━━╇━━━━━━━━━━━━━━━┩\n",
       "│ dense_14 (\u001B[38;5;33mDense\u001B[0m)                │ (\u001B[38;5;45mNone\u001B[0m, \u001B[38;5;34m50\u001B[0m)             │        \u001B[38;5;34m39,250\u001B[0m │\n",
       "├─────────────────────────────────┼────────────────────────┼───────────────┤\n",
       "│ dense_15 (\u001B[38;5;33mDense\u001B[0m)                │ (\u001B[38;5;45mNone\u001B[0m, \u001B[38;5;34m10\u001B[0m)             │           \u001B[38;5;34m510\u001B[0m │\n",
       "└─────────────────────────────────┴────────────────────────┴───────────────┘\n"
      ],
      "text/html": [
       "<pre style=\"white-space:pre;overflow-x:auto;line-height:normal;font-family:Menlo,'DejaVu Sans Mono',consolas,'Courier New',monospace\">┏━━━━━━━━━━━━━━━━━━━━━━━━━━━━━━━━━┳━━━━━━━━━━━━━━━━━━━━━━━━┳━━━━━━━━━━━━━━━┓\n",
       "┃<span style=\"font-weight: bold\"> Layer (type)                    </span>┃<span style=\"font-weight: bold\"> Output Shape           </span>┃<span style=\"font-weight: bold\">       Param # </span>┃\n",
       "┡━━━━━━━━━━━━━━━━━━━━━━━━━━━━━━━━━╇━━━━━━━━━━━━━━━━━━━━━━━━╇━━━━━━━━━━━━━━━┩\n",
       "│ dense_14 (<span style=\"color: #0087ff; text-decoration-color: #0087ff\">Dense</span>)                │ (<span style=\"color: #00d7ff; text-decoration-color: #00d7ff\">None</span>, <span style=\"color: #00af00; text-decoration-color: #00af00\">50</span>)             │        <span style=\"color: #00af00; text-decoration-color: #00af00\">39,250</span> │\n",
       "├─────────────────────────────────┼────────────────────────┼───────────────┤\n",
       "│ dense_15 (<span style=\"color: #0087ff; text-decoration-color: #0087ff\">Dense</span>)                │ (<span style=\"color: #00d7ff; text-decoration-color: #00d7ff\">None</span>, <span style=\"color: #00af00; text-decoration-color: #00af00\">10</span>)             │           <span style=\"color: #00af00; text-decoration-color: #00af00\">510</span> │\n",
       "└─────────────────────────────────┴────────────────────────┴───────────────┘\n",
       "</pre>\n"
      ]
     },
     "metadata": {},
     "output_type": "display_data"
    },
    {
     "data": {
      "text/plain": [
       "\u001B[1m Total params: \u001B[0m\u001B[38;5;34m39,760\u001B[0m (155.31 KB)\n"
      ],
      "text/html": [
       "<pre style=\"white-space:pre;overflow-x:auto;line-height:normal;font-family:Menlo,'DejaVu Sans Mono',consolas,'Courier New',monospace\"><span style=\"font-weight: bold\"> Total params: </span><span style=\"color: #00af00; text-decoration-color: #00af00\">39,760</span> (155.31 KB)\n",
       "</pre>\n"
      ]
     },
     "metadata": {},
     "output_type": "display_data"
    },
    {
     "data": {
      "text/plain": [
       "\u001B[1m Trainable params: \u001B[0m\u001B[38;5;34m39,760\u001B[0m (155.31 KB)\n"
      ],
      "text/html": [
       "<pre style=\"white-space:pre;overflow-x:auto;line-height:normal;font-family:Menlo,'DejaVu Sans Mono',consolas,'Courier New',monospace\"><span style=\"font-weight: bold\"> Trainable params: </span><span style=\"color: #00af00; text-decoration-color: #00af00\">39,760</span> (155.31 KB)\n",
       "</pre>\n"
      ]
     },
     "metadata": {},
     "output_type": "display_data"
    },
    {
     "data": {
      "text/plain": [
       "\u001B[1m Non-trainable params: \u001B[0m\u001B[38;5;34m0\u001B[0m (0.00 B)\n"
      ],
      "text/html": [
       "<pre style=\"white-space:pre;overflow-x:auto;line-height:normal;font-family:Menlo,'DejaVu Sans Mono',consolas,'Courier New',monospace\"><span style=\"font-weight: bold\"> Non-trainable params: </span><span style=\"color: #00af00; text-decoration-color: #00af00\">0</span> (0.00 B)\n",
       "</pre>\n"
      ]
     },
     "metadata": {},
     "output_type": "display_data"
    }
   ],
   "execution_count": 35
  },
  {
   "cell_type": "markdown",
   "metadata": {
    "id": "Peiq9GR2bUeN"
   },
   "source": [
    "Define some constants and train the MLP"
   ]
  },
  {
   "cell_type": "code",
   "metadata": {
    "colab": {
     "base_uri": "https://localhost:8080/"
    },
    "id": "NBt-ReqIbUeR",
    "outputId": "ace087ba-fb58-41b9-c930-aca30d2bd82f",
    "ExecuteTime": {
     "end_time": "2024-05-12T10:31:55.495387Z",
     "start_time": "2024-05-12T10:30:39.111937Z"
    }
   },
   "source": [
    "from keras.src.optimizers import *\n",
    "\n",
    "batch_size = 64\n",
    "n_epoch = 90\n",
    "\n",
    "model.compile(loss='categorical_crossentropy', optimizer=AdamW(), metrics=['accuracy'])\n",
    "\n",
    "history = model.fit(X_train, Y_train,\n",
    "                    batch_size=batch_size, epochs=n_epoch,\n",
    "                    verbose=1, validation_split=0.3)"
   ],
   "outputs": [
    {
     "name": "stdout",
     "output_type": "stream",
     "text": [
      "Epoch 1/90\n",
      "\u001B[1m657/657\u001B[0m \u001B[32m━━━━━━━━━━━━━━━━━━━━\u001B[0m\u001B[37m\u001B[0m \u001B[1m2s\u001B[0m 2ms/step - accuracy: 0.7159 - loss: 1.2345 - val_accuracy: 0.9037 - val_loss: 0.3792\n",
      "Epoch 2/90\n",
      "\u001B[1m657/657\u001B[0m \u001B[32m━━━━━━━━━━━━━━━━━━━━\u001B[0m\u001B[37m\u001B[0m \u001B[1m1s\u001B[0m 1ms/step - accuracy: 0.9107 - loss: 0.3502 - val_accuracy: 0.9222 - val_loss: 0.2828\n",
      "Epoch 3/90\n",
      "\u001B[1m657/657\u001B[0m \u001B[32m━━━━━━━━━━━━━━━━━━━━\u001B[0m\u001B[37m\u001B[0m \u001B[1m1s\u001B[0m 1ms/step - accuracy: 0.9285 - loss: 0.2655 - val_accuracy: 0.9324 - val_loss: 0.2434\n",
      "Epoch 4/90\n",
      "\u001B[1m657/657\u001B[0m \u001B[32m━━━━━━━━━━━━━━━━━━━━\u001B[0m\u001B[37m\u001B[0m \u001B[1m1s\u001B[0m 1ms/step - accuracy: 0.9376 - loss: 0.2232 - val_accuracy: 0.9379 - val_loss: 0.2202\n",
      "Epoch 5/90\n",
      "\u001B[1m657/657\u001B[0m \u001B[32m━━━━━━━━━━━━━━━━━━━━\u001B[0m\u001B[37m\u001B[0m \u001B[1m1s\u001B[0m 1ms/step - accuracy: 0.9455 - loss: 0.1941 - val_accuracy: 0.9433 - val_loss: 0.2013\n",
      "Epoch 6/90\n",
      "\u001B[1m657/657\u001B[0m \u001B[32m━━━━━━━━━━━━━━━━━━━━\u001B[0m\u001B[37m\u001B[0m \u001B[1m1s\u001B[0m 1ms/step - accuracy: 0.9500 - loss: 0.1747 - val_accuracy: 0.9489 - val_loss: 0.1835\n",
      "Epoch 7/90\n",
      "\u001B[1m657/657\u001B[0m \u001B[32m━━━━━━━━━━━━━━━━━━━━\u001B[0m\u001B[37m\u001B[0m \u001B[1m1s\u001B[0m 1ms/step - accuracy: 0.9570 - loss: 0.1568 - val_accuracy: 0.9532 - val_loss: 0.1707\n",
      "Epoch 8/90\n",
      "\u001B[1m657/657\u001B[0m \u001B[32m━━━━━━━━━━━━━━━━━━━━\u001B[0m\u001B[37m\u001B[0m \u001B[1m1s\u001B[0m 1ms/step - accuracy: 0.9620 - loss: 0.1393 - val_accuracy: 0.9547 - val_loss: 0.1623\n",
      "Epoch 9/90\n",
      "\u001B[1m657/657\u001B[0m \u001B[32m━━━━━━━━━━━━━━━━━━━━\u001B[0m\u001B[37m\u001B[0m \u001B[1m1s\u001B[0m 1ms/step - accuracy: 0.9642 - loss: 0.1293 - val_accuracy: 0.9553 - val_loss: 0.1574\n",
      "Epoch 10/90\n",
      "\u001B[1m657/657\u001B[0m \u001B[32m━━━━━━━━━━━━━━━━━━━━\u001B[0m\u001B[37m\u001B[0m \u001B[1m1s\u001B[0m 1ms/step - accuracy: 0.9673 - loss: 0.1173 - val_accuracy: 0.9574 - val_loss: 0.1499\n",
      "Epoch 11/90\n",
      "\u001B[1m657/657\u001B[0m \u001B[32m━━━━━━━━━━━━━━━━━━━━\u001B[0m\u001B[37m\u001B[0m \u001B[1m1s\u001B[0m 1ms/step - accuracy: 0.9693 - loss: 0.1075 - val_accuracy: 0.9602 - val_loss: 0.1431\n",
      "Epoch 12/90\n",
      "\u001B[1m657/657\u001B[0m \u001B[32m━━━━━━━━━━━━━━━━━━━━\u001B[0m\u001B[37m\u001B[0m \u001B[1m1s\u001B[0m 1ms/step - accuracy: 0.9738 - loss: 0.0971 - val_accuracy: 0.9613 - val_loss: 0.1372\n",
      "Epoch 13/90\n",
      "\u001B[1m657/657\u001B[0m \u001B[32m━━━━━━━━━━━━━━━━━━━━\u001B[0m\u001B[37m\u001B[0m \u001B[1m1s\u001B[0m 1ms/step - accuracy: 0.9755 - loss: 0.0897 - val_accuracy: 0.9599 - val_loss: 0.1386\n",
      "Epoch 14/90\n",
      "\u001B[1m657/657\u001B[0m \u001B[32m━━━━━━━━━━━━━━━━━━━━\u001B[0m\u001B[37m\u001B[0m \u001B[1m1s\u001B[0m 1ms/step - accuracy: 0.9762 - loss: 0.0890 - val_accuracy: 0.9619 - val_loss: 0.1320\n",
      "Epoch 15/90\n",
      "\u001B[1m657/657\u001B[0m \u001B[32m━━━━━━━━━━━━━━━━━━━━\u001B[0m\u001B[37m\u001B[0m \u001B[1m1s\u001B[0m 1ms/step - accuracy: 0.9794 - loss: 0.0803 - val_accuracy: 0.9629 - val_loss: 0.1285\n",
      "Epoch 16/90\n",
      "\u001B[1m657/657\u001B[0m \u001B[32m━━━━━━━━━━━━━━━━━━━━\u001B[0m\u001B[37m\u001B[0m \u001B[1m1s\u001B[0m 1ms/step - accuracy: 0.9825 - loss: 0.0720 - val_accuracy: 0.9638 - val_loss: 0.1248\n",
      "Epoch 17/90\n",
      "\u001B[1m657/657\u001B[0m \u001B[32m━━━━━━━━━━━━━━━━━━━━\u001B[0m\u001B[37m\u001B[0m \u001B[1m1s\u001B[0m 1ms/step - accuracy: 0.9818 - loss: 0.0707 - val_accuracy: 0.9636 - val_loss: 0.1250\n",
      "Epoch 18/90\n",
      "\u001B[1m657/657\u001B[0m \u001B[32m━━━━━━━━━━━━━━━━━━━━\u001B[0m\u001B[37m\u001B[0m \u001B[1m1s\u001B[0m 1ms/step - accuracy: 0.9841 - loss: 0.0637 - val_accuracy: 0.9644 - val_loss: 0.1218\n",
      "Epoch 19/90\n",
      "\u001B[1m657/657\u001B[0m \u001B[32m━━━━━━━━━━━━━━━━━━━━\u001B[0m\u001B[37m\u001B[0m \u001B[1m1s\u001B[0m 1ms/step - accuracy: 0.9849 - loss: 0.0622 - val_accuracy: 0.9643 - val_loss: 0.1221\n",
      "Epoch 20/90\n",
      "\u001B[1m657/657\u001B[0m \u001B[32m━━━━━━━━━━━━━━━━━━━━\u001B[0m\u001B[37m\u001B[0m \u001B[1m1s\u001B[0m 1ms/step - accuracy: 0.9857 - loss: 0.0581 - val_accuracy: 0.9654 - val_loss: 0.1189\n",
      "Epoch 21/90\n",
      "\u001B[1m657/657\u001B[0m \u001B[32m━━━━━━━━━━━━━━━━━━━━\u001B[0m\u001B[37m\u001B[0m \u001B[1m1s\u001B[0m 1ms/step - accuracy: 0.9880 - loss: 0.0533 - val_accuracy: 0.9655 - val_loss: 0.1194\n",
      "Epoch 22/90\n",
      "\u001B[1m657/657\u001B[0m \u001B[32m━━━━━━━━━━━━━━━━━━━━\u001B[0m\u001B[37m\u001B[0m \u001B[1m1s\u001B[0m 1ms/step - accuracy: 0.9866 - loss: 0.0526 - val_accuracy: 0.9663 - val_loss: 0.1172\n",
      "Epoch 23/90\n",
      "\u001B[1m657/657\u001B[0m \u001B[32m━━━━━━━━━━━━━━━━━━━━\u001B[0m\u001B[37m\u001B[0m \u001B[1m1s\u001B[0m 1ms/step - accuracy: 0.9891 - loss: 0.0470 - val_accuracy: 0.9657 - val_loss: 0.1173\n",
      "Epoch 24/90\n",
      "\u001B[1m657/657\u001B[0m \u001B[32m━━━━━━━━━━━━━━━━━━━━\u001B[0m\u001B[37m\u001B[0m \u001B[1m1s\u001B[0m 1ms/step - accuracy: 0.9894 - loss: 0.0462 - val_accuracy: 0.9651 - val_loss: 0.1174\n",
      "Epoch 25/90\n",
      "\u001B[1m657/657\u001B[0m \u001B[32m━━━━━━━━━━━━━━━━━━━━\u001B[0m\u001B[37m\u001B[0m \u001B[1m1s\u001B[0m 1ms/step - accuracy: 0.9902 - loss: 0.0442 - val_accuracy: 0.9655 - val_loss: 0.1172\n",
      "Epoch 26/90\n",
      "\u001B[1m657/657\u001B[0m \u001B[32m━━━━━━━━━━━━━━━━━━━━\u001B[0m\u001B[37m\u001B[0m \u001B[1m1s\u001B[0m 1ms/step - accuracy: 0.9905 - loss: 0.0421 - val_accuracy: 0.9662 - val_loss: 0.1154\n",
      "Epoch 27/90\n",
      "\u001B[1m657/657\u001B[0m \u001B[32m━━━━━━━━━━━━━━━━━━━━\u001B[0m\u001B[37m\u001B[0m \u001B[1m1s\u001B[0m 1ms/step - accuracy: 0.9924 - loss: 0.0381 - val_accuracy: 0.9658 - val_loss: 0.1167\n",
      "Epoch 28/90\n",
      "\u001B[1m657/657\u001B[0m \u001B[32m━━━━━━━━━━━━━━━━━━━━\u001B[0m\u001B[37m\u001B[0m \u001B[1m1s\u001B[0m 1ms/step - accuracy: 0.9924 - loss: 0.0356 - val_accuracy: 0.9667 - val_loss: 0.1149\n",
      "Epoch 29/90\n",
      "\u001B[1m657/657\u001B[0m \u001B[32m━━━━━━━━━━━━━━━━━━━━\u001B[0m\u001B[37m\u001B[0m \u001B[1m1s\u001B[0m 1ms/step - accuracy: 0.9934 - loss: 0.0326 - val_accuracy: 0.9668 - val_loss: 0.1158\n",
      "Epoch 30/90\n",
      "\u001B[1m657/657\u001B[0m \u001B[32m━━━━━━━━━━━━━━━━━━━━\u001B[0m\u001B[37m\u001B[0m \u001B[1m1s\u001B[0m 1ms/step - accuracy: 0.9936 - loss: 0.0326 - val_accuracy: 0.9669 - val_loss: 0.1163\n",
      "Epoch 31/90\n",
      "\u001B[1m657/657\u001B[0m \u001B[32m━━━━━━━━━━━━━━━━━━━━\u001B[0m\u001B[37m\u001B[0m \u001B[1m1s\u001B[0m 1ms/step - accuracy: 0.9941 - loss: 0.0314 - val_accuracy: 0.9668 - val_loss: 0.1163\n",
      "Epoch 32/90\n",
      "\u001B[1m657/657\u001B[0m \u001B[32m━━━━━━━━━━━━━━━━━━━━\u001B[0m\u001B[37m\u001B[0m \u001B[1m1s\u001B[0m 1ms/step - accuracy: 0.9949 - loss: 0.0288 - val_accuracy: 0.9672 - val_loss: 0.1160\n",
      "Epoch 33/90\n",
      "\u001B[1m657/657\u001B[0m \u001B[32m━━━━━━━━━━━━━━━━━━━━\u001B[0m\u001B[37m\u001B[0m \u001B[1m1s\u001B[0m 1ms/step - accuracy: 0.9953 - loss: 0.0282 - val_accuracy: 0.9664 - val_loss: 0.1154\n",
      "Epoch 34/90\n",
      "\u001B[1m657/657\u001B[0m \u001B[32m━━━━━━━━━━━━━━━━━━━━\u001B[0m\u001B[37m\u001B[0m \u001B[1m1s\u001B[0m 1ms/step - accuracy: 0.9958 - loss: 0.0265 - val_accuracy: 0.9662 - val_loss: 0.1168\n",
      "Epoch 35/90\n",
      "\u001B[1m657/657\u001B[0m \u001B[32m━━━━━━━━━━━━━━━━━━━━\u001B[0m\u001B[37m\u001B[0m \u001B[1m1s\u001B[0m 1ms/step - accuracy: 0.9964 - loss: 0.0230 - val_accuracy: 0.9676 - val_loss: 0.1146\n",
      "Epoch 36/90\n",
      "\u001B[1m657/657\u001B[0m \u001B[32m━━━━━━━━━━━━━━━━━━━━\u001B[0m\u001B[37m\u001B[0m \u001B[1m1s\u001B[0m 1ms/step - accuracy: 0.9969 - loss: 0.0222 - val_accuracy: 0.9676 - val_loss: 0.1142\n",
      "Epoch 37/90\n",
      "\u001B[1m657/657\u001B[0m \u001B[32m━━━━━━━━━━━━━━━━━━━━\u001B[0m\u001B[37m\u001B[0m \u001B[1m1s\u001B[0m 1ms/step - accuracy: 0.9968 - loss: 0.0214 - val_accuracy: 0.9682 - val_loss: 0.1150\n",
      "Epoch 38/90\n",
      "\u001B[1m657/657\u001B[0m \u001B[32m━━━━━━━━━━━━━━━━━━━━\u001B[0m\u001B[37m\u001B[0m \u001B[1m1s\u001B[0m 1ms/step - accuracy: 0.9972 - loss: 0.0208 - val_accuracy: 0.9684 - val_loss: 0.1160\n",
      "Epoch 39/90\n",
      "\u001B[1m657/657\u001B[0m \u001B[32m━━━━━━━━━━━━━━━━━━━━\u001B[0m\u001B[37m\u001B[0m \u001B[1m1s\u001B[0m 1ms/step - accuracy: 0.9977 - loss: 0.0191 - val_accuracy: 0.9683 - val_loss: 0.1155\n",
      "Epoch 40/90\n",
      "\u001B[1m657/657\u001B[0m \u001B[32m━━━━━━━━━━━━━━━━━━━━\u001B[0m\u001B[37m\u001B[0m \u001B[1m1s\u001B[0m 1ms/step - accuracy: 0.9977 - loss: 0.0181 - val_accuracy: 0.9671 - val_loss: 0.1174\n",
      "Epoch 41/90\n",
      "\u001B[1m657/657\u001B[0m \u001B[32m━━━━━━━━━━━━━━━━━━━━\u001B[0m\u001B[37m\u001B[0m \u001B[1m1s\u001B[0m 1ms/step - accuracy: 0.9982 - loss: 0.0166 - val_accuracy: 0.9672 - val_loss: 0.1186\n",
      "Epoch 42/90\n",
      "\u001B[1m657/657\u001B[0m \u001B[32m━━━━━━━━━━━━━━━━━━━━\u001B[0m\u001B[37m\u001B[0m \u001B[1m1s\u001B[0m 1ms/step - accuracy: 0.9985 - loss: 0.0156 - val_accuracy: 0.9677 - val_loss: 0.1182\n",
      "Epoch 43/90\n",
      "\u001B[1m657/657\u001B[0m \u001B[32m━━━━━━━━━━━━━━━━━━━━\u001B[0m\u001B[37m\u001B[0m \u001B[1m1s\u001B[0m 1ms/step - accuracy: 0.9988 - loss: 0.0153 - val_accuracy: 0.9674 - val_loss: 0.1205\n",
      "Epoch 44/90\n",
      "\u001B[1m657/657\u001B[0m \u001B[32m━━━━━━━━━━━━━━━━━━━━\u001B[0m\u001B[37m\u001B[0m \u001B[1m1s\u001B[0m 1ms/step - accuracy: 0.9987 - loss: 0.0144 - val_accuracy: 0.9678 - val_loss: 0.1184\n",
      "Epoch 45/90\n",
      "\u001B[1m657/657\u001B[0m \u001B[32m━━━━━━━━━━━━━━━━━━━━\u001B[0m\u001B[37m\u001B[0m \u001B[1m1s\u001B[0m 1ms/step - accuracy: 0.9986 - loss: 0.0138 - val_accuracy: 0.9686 - val_loss: 0.1188\n",
      "Epoch 46/90\n",
      "\u001B[1m657/657\u001B[0m \u001B[32m━━━━━━━━━━━━━━━━━━━━\u001B[0m\u001B[37m\u001B[0m \u001B[1m1s\u001B[0m 1ms/step - accuracy: 0.9991 - loss: 0.0127 - val_accuracy: 0.9674 - val_loss: 0.1200\n",
      "Epoch 47/90\n",
      "\u001B[1m657/657\u001B[0m \u001B[32m━━━━━━━━━━━━━━━━━━━━\u001B[0m\u001B[37m\u001B[0m \u001B[1m1s\u001B[0m 1ms/step - accuracy: 0.9992 - loss: 0.0117 - val_accuracy: 0.9682 - val_loss: 0.1202\n",
      "Epoch 48/90\n",
      "\u001B[1m657/657\u001B[0m \u001B[32m━━━━━━━━━━━━━━━━━━━━\u001B[0m\u001B[37m\u001B[0m \u001B[1m1s\u001B[0m 1ms/step - accuracy: 0.9994 - loss: 0.0114 - val_accuracy: 0.9682 - val_loss: 0.1216\n",
      "Epoch 49/90\n",
      "\u001B[1m657/657\u001B[0m \u001B[32m━━━━━━━━━━━━━━━━━━━━\u001B[0m\u001B[37m\u001B[0m \u001B[1m1s\u001B[0m 1ms/step - accuracy: 0.9993 - loss: 0.0107 - val_accuracy: 0.9684 - val_loss: 0.1210\n",
      "Epoch 50/90\n",
      "\u001B[1m657/657\u001B[0m \u001B[32m━━━━━━━━━━━━━━━━━━━━\u001B[0m\u001B[37m\u001B[0m \u001B[1m1s\u001B[0m 1ms/step - accuracy: 0.9992 - loss: 0.0101 - val_accuracy: 0.9677 - val_loss: 0.1225\n",
      "Epoch 51/90\n",
      "\u001B[1m657/657\u001B[0m \u001B[32m━━━━━━━━━━━━━━━━━━━━\u001B[0m\u001B[37m\u001B[0m \u001B[1m1s\u001B[0m 1ms/step - accuracy: 0.9998 - loss: 0.0090 - val_accuracy: 0.9671 - val_loss: 0.1235\n",
      "Epoch 52/90\n",
      "\u001B[1m657/657\u001B[0m \u001B[32m━━━━━━━━━━━━━━━━━━━━\u001B[0m\u001B[37m\u001B[0m \u001B[1m1s\u001B[0m 1ms/step - accuracy: 0.9994 - loss: 0.0091 - val_accuracy: 0.9668 - val_loss: 0.1268\n",
      "Epoch 53/90\n",
      "\u001B[1m657/657\u001B[0m \u001B[32m━━━━━━━━━━━━━━━━━━━━\u001B[0m\u001B[37m\u001B[0m \u001B[1m1s\u001B[0m 1ms/step - accuracy: 0.9998 - loss: 0.0078 - val_accuracy: 0.9673 - val_loss: 0.1247\n",
      "Epoch 54/90\n",
      "\u001B[1m657/657\u001B[0m \u001B[32m━━━━━━━━━━━━━━━━━━━━\u001B[0m\u001B[37m\u001B[0m \u001B[1m1s\u001B[0m 1ms/step - accuracy: 0.9995 - loss: 0.0081 - val_accuracy: 0.9674 - val_loss: 0.1259\n",
      "Epoch 55/90\n",
      "\u001B[1m657/657\u001B[0m \u001B[32m━━━━━━━━━━━━━━━━━━━━\u001B[0m\u001B[37m\u001B[0m \u001B[1m1s\u001B[0m 1ms/step - accuracy: 0.9997 - loss: 0.0073 - val_accuracy: 0.9673 - val_loss: 0.1264\n",
      "Epoch 56/90\n",
      "\u001B[1m657/657\u001B[0m \u001B[32m━━━━━━━━━━━━━━━━━━━━\u001B[0m\u001B[37m\u001B[0m \u001B[1m1s\u001B[0m 1ms/step - accuracy: 0.9998 - loss: 0.0067 - val_accuracy: 0.9678 - val_loss: 0.1285\n",
      "Epoch 57/90\n",
      "\u001B[1m657/657\u001B[0m \u001B[32m━━━━━━━━━━━━━━━━━━━━\u001B[0m\u001B[37m\u001B[0m \u001B[1m1s\u001B[0m 1ms/step - accuracy: 0.9999 - loss: 0.0066 - val_accuracy: 0.9676 - val_loss: 0.1264\n",
      "Epoch 58/90\n",
      "\u001B[1m657/657\u001B[0m \u001B[32m━━━━━━━━━━━━━━━━━━━━\u001B[0m\u001B[37m\u001B[0m \u001B[1m1s\u001B[0m 1ms/step - accuracy: 0.9998 - loss: 0.0060 - val_accuracy: 0.9671 - val_loss: 0.1296\n",
      "Epoch 59/90\n",
      "\u001B[1m657/657\u001B[0m \u001B[32m━━━━━━━━━━━━━━━━━━━━\u001B[0m\u001B[37m\u001B[0m \u001B[1m1s\u001B[0m 1ms/step - accuracy: 0.9998 - loss: 0.0056 - val_accuracy: 0.9665 - val_loss: 0.1295\n",
      "Epoch 60/90\n",
      "\u001B[1m657/657\u001B[0m \u001B[32m━━━━━━━━━━━━━━━━━━━━\u001B[0m\u001B[37m\u001B[0m \u001B[1m1s\u001B[0m 1ms/step - accuracy: 0.9999 - loss: 0.0051 - val_accuracy: 0.9675 - val_loss: 0.1297\n",
      "Epoch 61/90\n",
      "\u001B[1m657/657\u001B[0m \u001B[32m━━━━━━━━━━━━━━━━━━━━\u001B[0m\u001B[37m\u001B[0m \u001B[1m1s\u001B[0m 1ms/step - accuracy: 0.9998 - loss: 0.0049 - val_accuracy: 0.9666 - val_loss: 0.1329\n",
      "Epoch 62/90\n",
      "\u001B[1m657/657\u001B[0m \u001B[32m━━━━━━━━━━━━━━━━━━━━\u001B[0m\u001B[37m\u001B[0m \u001B[1m1s\u001B[0m 1ms/step - accuracy: 0.9999 - loss: 0.0049 - val_accuracy: 0.9677 - val_loss: 0.1309\n",
      "Epoch 63/90\n",
      "\u001B[1m657/657\u001B[0m \u001B[32m━━━━━━━━━━━━━━━━━━━━\u001B[0m\u001B[37m\u001B[0m \u001B[1m1s\u001B[0m 1ms/step - accuracy: 0.9998 - loss: 0.0045 - val_accuracy: 0.9666 - val_loss: 0.1343\n",
      "Epoch 64/90\n",
      "\u001B[1m657/657\u001B[0m \u001B[32m━━━━━━━━━━━━━━━━━━━━\u001B[0m\u001B[37m\u001B[0m \u001B[1m1s\u001B[0m 1ms/step - accuracy: 0.9999 - loss: 0.0045 - val_accuracy: 0.9669 - val_loss: 0.1336\n",
      "Epoch 65/90\n",
      "\u001B[1m657/657\u001B[0m \u001B[32m━━━━━━━━━━━━━━━━━━━━\u001B[0m\u001B[37m\u001B[0m \u001B[1m1s\u001B[0m 1ms/step - accuracy: 0.9999 - loss: 0.0041 - val_accuracy: 0.9666 - val_loss: 0.1350\n",
      "Epoch 66/90\n",
      "\u001B[1m657/657\u001B[0m \u001B[32m━━━━━━━━━━━━━━━━━━━━\u001B[0m\u001B[37m\u001B[0m \u001B[1m1s\u001B[0m 1ms/step - accuracy: 1.0000 - loss: 0.0036 - val_accuracy: 0.9668 - val_loss: 0.1366\n",
      "Epoch 67/90\n",
      "\u001B[1m657/657\u001B[0m \u001B[32m━━━━━━━━━━━━━━━━━━━━\u001B[0m\u001B[37m\u001B[0m \u001B[1m1s\u001B[0m 1ms/step - accuracy: 0.9999 - loss: 0.0035 - val_accuracy: 0.9669 - val_loss: 0.1360\n",
      "Epoch 68/90\n",
      "\u001B[1m657/657\u001B[0m \u001B[32m━━━━━━━━━━━━━━━━━━━━\u001B[0m\u001B[37m\u001B[0m \u001B[1m1s\u001B[0m 1ms/step - accuracy: 0.9999 - loss: 0.0034 - val_accuracy: 0.9661 - val_loss: 0.1391\n",
      "Epoch 69/90\n",
      "\u001B[1m657/657\u001B[0m \u001B[32m━━━━━━━━━━━━━━━━━━━━\u001B[0m\u001B[37m\u001B[0m \u001B[1m1s\u001B[0m 1ms/step - accuracy: 0.9999 - loss: 0.0030 - val_accuracy: 0.9667 - val_loss: 0.1421\n",
      "Epoch 70/90\n",
      "\u001B[1m657/657\u001B[0m \u001B[32m━━━━━━━━━━━━━━━━━━━━\u001B[0m\u001B[37m\u001B[0m \u001B[1m1s\u001B[0m 1ms/step - accuracy: 0.9999 - loss: 0.0029 - val_accuracy: 0.9655 - val_loss: 0.1419\n",
      "Epoch 71/90\n",
      "\u001B[1m657/657\u001B[0m \u001B[32m━━━━━━━━━━━━━━━━━━━━\u001B[0m\u001B[37m\u001B[0m \u001B[1m1s\u001B[0m 1ms/step - accuracy: 0.9999 - loss: 0.0028 - val_accuracy: 0.9668 - val_loss: 0.1425\n",
      "Epoch 72/90\n",
      "\u001B[1m657/657\u001B[0m \u001B[32m━━━━━━━━━━━━━━━━━━━━\u001B[0m\u001B[37m\u001B[0m \u001B[1m1s\u001B[0m 1ms/step - accuracy: 0.9999 - loss: 0.0025 - val_accuracy: 0.9668 - val_loss: 0.1423\n",
      "Epoch 73/90\n",
      "\u001B[1m657/657\u001B[0m \u001B[32m━━━━━━━━━━━━━━━━━━━━\u001B[0m\u001B[37m\u001B[0m \u001B[1m1s\u001B[0m 1ms/step - accuracy: 1.0000 - loss: 0.0023 - val_accuracy: 0.9661 - val_loss: 0.1430\n",
      "Epoch 74/90\n",
      "\u001B[1m657/657\u001B[0m \u001B[32m━━━━━━━━━━━━━━━━━━━━\u001B[0m\u001B[37m\u001B[0m \u001B[1m1s\u001B[0m 1ms/step - accuracy: 1.0000 - loss: 0.0022 - val_accuracy: 0.9668 - val_loss: 0.1436\n",
      "Epoch 75/90\n",
      "\u001B[1m657/657\u001B[0m \u001B[32m━━━━━━━━━━━━━━━━━━━━\u001B[0m\u001B[37m\u001B[0m \u001B[1m1s\u001B[0m 1ms/step - accuracy: 1.0000 - loss: 0.0022 - val_accuracy: 0.9671 - val_loss: 0.1449\n",
      "Epoch 76/90\n",
      "\u001B[1m657/657\u001B[0m \u001B[32m━━━━━━━━━━━━━━━━━━━━\u001B[0m\u001B[37m\u001B[0m \u001B[1m1s\u001B[0m 1ms/step - accuracy: 1.0000 - loss: 0.0019 - val_accuracy: 0.9661 - val_loss: 0.1485\n",
      "Epoch 77/90\n",
      "\u001B[1m657/657\u001B[0m \u001B[32m━━━━━━━━━━━━━━━━━━━━\u001B[0m\u001B[37m\u001B[0m \u001B[1m1s\u001B[0m 1ms/step - accuracy: 1.0000 - loss: 0.0018 - val_accuracy: 0.9669 - val_loss: 0.1465\n",
      "Epoch 78/90\n",
      "\u001B[1m657/657\u001B[0m \u001B[32m━━━━━━━━━━━━━━━━━━━━\u001B[0m\u001B[37m\u001B[0m \u001B[1m1s\u001B[0m 1ms/step - accuracy: 1.0000 - loss: 0.0017 - val_accuracy: 0.9663 - val_loss: 0.1499\n",
      "Epoch 79/90\n",
      "\u001B[1m657/657\u001B[0m \u001B[32m━━━━━━━━━━━━━━━━━━━━\u001B[0m\u001B[37m\u001B[0m \u001B[1m1s\u001B[0m 1ms/step - accuracy: 1.0000 - loss: 0.0016 - val_accuracy: 0.9669 - val_loss: 0.1502\n",
      "Epoch 80/90\n",
      "\u001B[1m657/657\u001B[0m \u001B[32m━━━━━━━━━━━━━━━━━━━━\u001B[0m\u001B[37m\u001B[0m \u001B[1m1s\u001B[0m 1ms/step - accuracy: 1.0000 - loss: 0.0015 - val_accuracy: 0.9674 - val_loss: 0.1496\n",
      "Epoch 81/90\n",
      "\u001B[1m657/657\u001B[0m \u001B[32m━━━━━━━━━━━━━━━━━━━━\u001B[0m\u001B[37m\u001B[0m \u001B[1m1s\u001B[0m 1ms/step - accuracy: 1.0000 - loss: 0.0014 - val_accuracy: 0.9668 - val_loss: 0.1509\n",
      "Epoch 82/90\n",
      "\u001B[1m657/657\u001B[0m \u001B[32m━━━━━━━━━━━━━━━━━━━━\u001B[0m\u001B[37m\u001B[0m \u001B[1m1s\u001B[0m 1ms/step - accuracy: 1.0000 - loss: 0.0013 - val_accuracy: 0.9662 - val_loss: 0.1544\n",
      "Epoch 83/90\n",
      "\u001B[1m657/657\u001B[0m \u001B[32m━━━━━━━━━━━━━━━━━━━━\u001B[0m\u001B[37m\u001B[0m \u001B[1m1s\u001B[0m 1ms/step - accuracy: 1.0000 - loss: 0.0013 - val_accuracy: 0.9652 - val_loss: 0.1532\n",
      "Epoch 84/90\n",
      "\u001B[1m657/657\u001B[0m \u001B[32m━━━━━━━━━━━━━━━━━━━━\u001B[0m\u001B[37m\u001B[0m \u001B[1m1s\u001B[0m 1ms/step - accuracy: 1.0000 - loss: 0.0013 - val_accuracy: 0.9662 - val_loss: 0.1556\n",
      "Epoch 85/90\n",
      "\u001B[1m657/657\u001B[0m \u001B[32m━━━━━━━━━━━━━━━━━━━━\u001B[0m\u001B[37m\u001B[0m \u001B[1m1s\u001B[0m 1ms/step - accuracy: 1.0000 - loss: 9.8876e-04 - val_accuracy: 0.9655 - val_loss: 0.1603\n",
      "Epoch 86/90\n",
      "\u001B[1m657/657\u001B[0m \u001B[32m━━━━━━━━━━━━━━━━━━━━\u001B[0m\u001B[37m\u001B[0m \u001B[1m1s\u001B[0m 1ms/step - accuracy: 1.0000 - loss: 0.0011 - val_accuracy: 0.9663 - val_loss: 0.1595\n",
      "Epoch 87/90\n",
      "\u001B[1m657/657\u001B[0m \u001B[32m━━━━━━━━━━━━━━━━━━━━\u001B[0m\u001B[37m\u001B[0m \u001B[1m1s\u001B[0m 1ms/step - accuracy: 1.0000 - loss: 9.6824e-04 - val_accuracy: 0.9659 - val_loss: 0.1590\n",
      "Epoch 88/90\n",
      "\u001B[1m657/657\u001B[0m \u001B[32m━━━━━━━━━━━━━━━━━━━━\u001B[0m\u001B[37m\u001B[0m \u001B[1m1s\u001B[0m 1ms/step - accuracy: 1.0000 - loss: 8.9620e-04 - val_accuracy: 0.9658 - val_loss: 0.1607\n",
      "Epoch 89/90\n",
      "\u001B[1m657/657\u001B[0m \u001B[32m━━━━━━━━━━━━━━━━━━━━\u001B[0m\u001B[37m\u001B[0m \u001B[1m1s\u001B[0m 1ms/step - accuracy: 1.0000 - loss: 9.6750e-04 - val_accuracy: 0.9648 - val_loss: 0.1666\n",
      "Epoch 90/90\n",
      "\u001B[1m657/657\u001B[0m \u001B[32m━━━━━━━━━━━━━━━━━━━━\u001B[0m\u001B[37m\u001B[0m \u001B[1m1s\u001B[0m 1ms/step - accuracy: 1.0000 - loss: 8.4663e-04 - val_accuracy: 0.9662 - val_loss: 0.1646\n"
     ]
    }
   ],
   "execution_count": 36
  },
  {
   "cell_type": "markdown",
   "metadata": {
    "id": "7u_zpHr5bUeb"
   },
   "source": [
    "Show the performance of the model"
   ]
  },
  {
   "cell_type": "code",
   "metadata": {
    "colab": {
     "base_uri": "https://localhost:8080/",
     "height": 469
    },
    "id": "PHXi21E1bUef",
    "outputId": "b6e27fa4-a128-4cd3-abbb-050545b2f167",
    "ExecuteTime": {
     "end_time": "2024-05-12T10:31:55.867092Z",
     "start_time": "2024-05-12T10:31:55.496907Z"
    }
   },
   "source": [
    "pl.plot(history.history['loss'], label='Training')\n",
    "pl.plot(history.history['val_loss'], label='Testing')\n",
    "pl.legend()\n",
    "pl.grid()\n",
    "\n",
    "score = model.evaluate(X_test, Y_test, verbose=0)\n",
    "print('Test score (loss):', score[0])\n",
    "print('Test accuracy:', score[1])"
   ],
   "outputs": [
    {
     "name": "stdout",
     "output_type": "stream",
     "text": [
      "Test score (loss): 0.15120166540145874\n",
      "Test accuracy: 0.9696000218391418\n"
     ]
    },
    {
     "data": {
      "text/plain": [
       "<Figure size 640x480 with 1 Axes>"
      ],
      "image/png": "[encoded data removed]"
     },
     "metadata": {},
     "output_type": "display_data"
    }
   ],
   "execution_count": 37
  },
  {
   "cell_type": "markdown",
   "metadata": {
    "id": "jLuFK6MobUet"
   },
   "source": [
    "Confusion matrix"
   ]
  },
  {
   "cell_type": "code",
   "metadata": {
    "colab": {
     "base_uri": "https://localhost:8080/"
    },
    "id": "PAjwjjrjbUex",
    "outputId": "8e963c5e-129d-476a-c69f-600294417a6f",
    "ExecuteTime": {
     "end_time": "2024-05-12T10:31:56.223432Z",
     "start_time": "2024-05-12T10:31:55.868593Z"
    }
   },
   "source": [
    "from sklearn.metrics import confusion_matrix\n",
    "\n",
    "pred = model.predict(X_test)\n",
    "pred = np.argmax(pred, axis=-1)\n",
    "confusion_matrix(y_test, pred)"
   ],
   "outputs": [
    {
     "name": "stdout",
     "output_type": "stream",
     "text": [
      "\u001B[1m313/313\u001B[0m \u001B[32m━━━━━━━━━━━━━━━━━━━━\u001B[0m\u001B[37m\u001B[0m \u001B[1m0s\u001B[0m 660us/step\n"
     ]
    },
    {
     "data": {
      "text/plain": [
       "array([[ 964,    0,    1,    1,    1,    4,    6,    1,    2,    0],\n",
       "       [   0, 1121,    5,    1,    1,    1,    2,    1,    3,    0],\n",
       "       [   4,    2, 1002,    7,    2,    1,    2,    6,    5,    1],\n",
       "       [   2,    2,    3,  989,    1,    3,    0,    3,    6,    1],\n",
       "       [   1,    1,    2,    1,  956,    0,    7,    1,    0,   13],\n",
       "       [   4,    1,    0,   20,    4,  841,   12,    1,    5,    4],\n",
       "       [   7,    3,    2,    1,    7,    6,  926,    0,    6,    0],\n",
       "       [   0,    2,    9,    9,    2,    0,    0,  993,    2,   11],\n",
       "       [   6,    1,    7,    8,    4,    5,    1,    5,  932,    5],\n",
       "       [   3,    3,    0,    6,   10,    7,    1,    6,    1,  972]],\n",
       "      dtype=int64)"
      ]
     },
     "execution_count": 38,
     "metadata": {},
     "output_type": "execute_result"
    }
   ],
   "execution_count": 38
  },
  {
   "cell_type": "code",
   "source": [],
   "metadata": {
    "collapsed": false,
    "ExecuteTime": {
     "end_time": "2024-05-12T10:31:56.238947Z",
     "start_time": "2024-05-12T10:31:56.224932Z"
    }
   },
   "outputs": [],
   "execution_count": 38
  }
 ],
 "metadata": {
  "accelerator": "GPU",
  "colab": {
   "provenance": []
  },
  "kernelspec": {
   "display_name": "Python 3 (ipykernel)",
   "language": "python",
   "name": "python3"
  },
  "language_info": {
   "codemirror_mode": {
    "name": "ipython",
    "version": 3
   },
   "file_extension": ".py",
   "mimetype": "text/x-python",
   "name": "python",
   "nbconvert_exporter": "python",
   "pygments_lexer": "ipython3",
   "version": "3.9.16"
  }
 },
 "nbformat": 4,
 "nbformat_minor": 0
}
