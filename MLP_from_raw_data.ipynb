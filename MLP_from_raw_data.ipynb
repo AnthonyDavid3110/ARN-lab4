{
 "cells": [
  {
   "cell_type": "markdown",
   "metadata": {
    "id": "Ic-cqm0tbUc3"
   },
   "source": [
    "# Multilayer Perceptron from raw data\n",
    "This notebook will guide you through the use of the `keras` package to train a multilayer perceptron for handwritten digits classification. You are going to use the `mnist` dataset from LeCun et al. 1998"
   ]
  },
  {
   "cell_type": "markdown",
   "metadata": {
    "id": "ND1Cf9lXbUc6"
   },
   "source": [
    "## Loading the packages"
   ]
  },
  {
   "cell_type": "code",
   "metadata": {
    "id": "Pvq0DhLtbUdE",
    "colab": {
     "base_uri": "https://localhost:8080/",
     "height": 1000
    },
    "outputId": "5f514e5b-11e7-4d79-900b-b44aa1f8e504",
    "ExecuteTime": {
     "end_time": "2024-05-12T10:30:38.814837Z",
     "start_time": "2024-05-12T10:30:35.051787Z"
    }
   },
   "source": [
    "%pip install tensorflow --upgrade\n",
    "%pip install keras --upgrade\n",
    "\n",
    "import numpy as np\n",
    "from matplotlib import pyplot as pl\n",
    "\n",
    "from tensorflow.keras.datasets import mnist\n",
    "from tensorflow.keras.models import Sequential\n",
    "from tensorflow.keras.layers import Dense, Dropout\n",
    "from tensorflow.keras.optimizers import RMSprop\n",
    "from sklearn import metrics as me\n",
    "\n",
    "%matplotlib inline"
   ],
   "outputs": [
    {
     "name": "stdout",
     "output_type": "stream",
     "text": [
      "Defaulting to user installation because normal site-packages is not writeable\n",
      "Requirement already satisfied: tensorflow in c:\\users\\anthony\\appdata\\roaming\\python\\python39\\site-packages (2.16.1)\n",
      "Requirement already satisfied: tensorflow-intel==2.16.1 in c:\\users\\anthony\\appdata\\roaming\\python\\python39\\site-packages (from tensorflow) (2.16.1)\n",
      "Requirement already satisfied: absl-py>=1.0.0 in c:\\users\\anthony\\appdata\\roaming\\python\\python39\\site-packages (from tensorflow-intel==2.16.1->tensorflow) (2.1.0)\n",
      "Requirement already satisfied: astunparse>=1.6.0 in c:\\users\\anthony\\appdata\\roaming\\python\\python39\\site-packages (from tensorflow-intel==2.16.1->tensorflow) (1.6.3)\n",
      "Requirement already satisfied: flatbuffers>=23.5.26 in c:\\users\\anthony\\appdata\\roaming\\python\\python39\\site-packages (from tensorflow-intel==2.16.1->tensorflow) (24.3.25)\n",
      "Requirement already satisfied: gast!=0.5.0,!=0.5.1,!=0.5.2,>=0.2.1 in c:\\users\\anthony\\appdata\\roaming\\python\\python39\\site-packages (from tensorflow-intel==2.16.1->tensorflow) (0.5.4)\n",
      "Requirement already satisfied: google-pasta>=0.1.1 in c:\\users\\anthony\\appdata\\roaming\\python\\python39\\site-packages (from tensorflow-intel==2.16.1->tensorflow) (0.2.0)\n",
      "Requirement already satisfied: h5py>=3.10.0 in c:\\users\\anthony\\appdata\\roaming\\python\\python39\\site-packages (from tensorflow-intel==2.16.1->tensorflow) (3.11.0)\n",
      "Requirement already satisfied: libclang>=13.0.0 in c:\\users\\anthony\\appdata\\roaming\\python\\python39\\site-packages (from tensorflow-intel==2.16.1->tensorflow) (18.1.1)\n",
      "Requirement already satisfied: ml-dtypes~=0.3.1 in c:\\users\\anthony\\appdata\\roaming\\python\\python39\\site-packages (from tensorflow-intel==2.16.1->tensorflow) (0.3.2)\n",
      "Requirement already satisfied: opt-einsum>=2.3.2 in c:\\users\\anthony\\appdata\\roaming\\python\\python39\\site-packages (from tensorflow-intel==2.16.1->tensorflow) (3.3.0)\n",
      "Requirement already satisfied: packaging in c:\\program files\\python39\\lib\\site-packages (from tensorflow-intel==2.16.1->tensorflow) (24.0)\n",
      "Requirement already satisfied: protobuf!=4.21.0,!=4.21.1,!=4.21.2,!=4.21.3,!=4.21.4,!=4.21.5,<5.0.0dev,>=3.20.3 in c:\\users\\anthony\\appdata\\roaming\\python\\python39\\site-packages (from tensorflow-intel==2.16.1->tensorflow) (4.25.3)\n",
      "Requirement already satisfied: requests<3,>=2.21.0 in c:\\program files\\python39\\lib\\site-packages (from tensorflow-intel==2.16.1->tensorflow) (2.31.0)\n",
      "Requirement already satisfied: setuptools in c:\\program files\\python39\\lib\\site-packages (from tensorflow-intel==2.16.1->tensorflow) (65.3.0)\n",
      "Requirement already satisfied: six>=1.12.0 in c:\\program files\\python39\\lib\\site-packages (from tensorflow-intel==2.16.1->tensorflow) (1.16.0)\n",
      "Requirement already satisfied: termcolor>=1.1.0 in c:\\users\\anthony\\appdata\\roaming\\python\\python39\\site-packages (from tensorflow-intel==2.16.1->tensorflow) (2.4.0)\n",
      "Requirement already satisfied: typing-extensions>=3.6.6 in c:\\program files\\python39\\lib\\site-packages (from tensorflow-intel==2.16.1->tensorflow) (4.11.0)\n",
      "Requirement already satisfied: wrapt>=1.11.0 in c:\\users\\anthony\\appdata\\roaming\\python\\python39\\site-packages (from tensorflow-intel==2.16.1->tensorflow) (1.16.0)\n",
      "Requirement already satisfied: grpcio<2.0,>=1.24.3 in c:\\users\\anthony\\appdata\\roaming\\python\\python39\\site-packages (from tensorflow-intel==2.16.1->tensorflow) (1.63.0)\n",
      "Requirement already satisfied: tensorboard<2.17,>=2.16 in c:\\users\\anthony\\appdata\\roaming\\python\\python39\\site-packages (from tensorflow-intel==2.16.1->tensorflow) (2.16.2)\n",
      "Requirement already satisfied: keras>=3.0.0 in c:\\users\\anthony\\appdata\\roaming\\python\\python39\\site-packages (from tensorflow-intel==2.16.1->tensorflow) (3.3.3)\n",
      "Requirement already satisfied: tensorflow-io-gcs-filesystem>=0.23.1 in c:\\users\\anthony\\appdata\\roaming\\python\\python39\\site-packages (from tensorflow-intel==2.16.1->tensorflow) (0.31.0)\n",
      "Requirement already satisfied: numpy<2.0.0,>=1.23.5 in c:\\users\\anthony\\appdata\\roaming\\python\\python39\\site-packages (from tensorflow-intel==2.16.1->tensorflow) (1.26.4)\n",
      "Requirement already satisfied: wheel<1.0,>=0.23.0 in c:\\users\\anthony\\appdata\\roaming\\python\\python39\\site-packages (from astunparse>=1.6.0->tensorflow-intel==2.16.1->tensorflow) (0.43.0)\n",
      "Requirement already satisfied: rich in c:\\users\\anthony\\appdata\\roaming\\python\\python39\\site-packages (from keras>=3.0.0->tensorflow-intel==2.16.1->tensorflow) (13.7.1)\n",
      "Requirement already satisfied: namex in c:\\users\\anthony\\appdata\\roaming\\python\\python39\\site-packages (from keras>=3.0.0->tensorflow-intel==2.16.1->tensorflow) (0.0.8)\n",
      "Requirement already satisfied: optree in c:\\users\\anthony\\appdata\\roaming\\python\\python39\\site-packages (from keras>=3.0.0->tensorflow-intel==2.16.1->tensorflow) (0.11.0)\n",
      "Requirement already satisfied: charset-normalizer<4,>=2 in c:\\program files\\python39\\lib\\site-packages (from requests<3,>=2.21.0->tensorflow-intel==2.16.1->tensorflow) (3.3.1)\n",
      "Requirement already satisfied: idna<4,>=2.5 in c:\\program files\\python39\\lib\\site-packages (from requests<3,>=2.21.0->tensorflow-intel==2.16.1->tensorflow) (3.4)\n",
      "Requirement already satisfied: urllib3<3,>=1.21.1 in c:\\program files\\python39\\lib\\site-packages (from requests<3,>=2.21.0->tensorflow-intel==2.16.1->tensorflow) (2.0.7)\n",
      "Requirement already satisfied: certifi>=2017.4.17 in c:\\program files\\python39\\lib\\site-packages (from requests<3,>=2.21.0->tensorflow-intel==2.16.1->tensorflow) (2023.7.22)\n",
      "Requirement already satisfied: markdown>=2.6.8 in c:\\users\\anthony\\appdata\\roaming\\python\\python39\\site-packages (from tensorboard<2.17,>=2.16->tensorflow-intel==2.16.1->tensorflow) (3.6)\n",
      "Requirement already satisfied: tensorboard-data-server<0.8.0,>=0.7.0 in c:\\users\\anthony\\appdata\\roaming\\python\\python39\\site-packages (from tensorboard<2.17,>=2.16->tensorflow-intel==2.16.1->tensorflow) (0.7.2)\n",
      "Requirement already satisfied: werkzeug>=1.0.1 in c:\\users\\anthony\\appdata\\roaming\\python\\python39\\site-packages (from tensorboard<2.17,>=2.16->tensorflow-intel==2.16.1->tensorflow) (3.0.3)\n",
      "Requirement already satisfied: importlib-metadata>=4.4 in c:\\program files\\python39\\lib\\site-packages (from markdown>=2.6.8->tensorboard<2.17,>=2.16->tensorflow-intel==2.16.1->tensorflow) (7.1.0)\n",
      "Requirement already satisfied: MarkupSafe>=2.1.1 in c:\\program files\\python39\\lib\\site-packages (from werkzeug>=1.0.1->tensorboard<2.17,>=2.16->tensorflow-intel==2.16.1->tensorflow) (2.1.5)\n",
      "Requirement already satisfied: markdown-it-py>=2.2.0 in c:\\users\\anthony\\appdata\\roaming\\python\\python39\\site-packages (from rich->keras>=3.0.0->tensorflow-intel==2.16.1->tensorflow) (3.0.0)\n",
      "Requirement already satisfied: pygments<3.0.0,>=2.13.0 in c:\\program files\\python39\\lib\\site-packages (from rich->keras>=3.0.0->tensorflow-intel==2.16.1->tensorflow) (2.17.2)\n",
      "Requirement already satisfied: zipp>=0.5 in c:\\program files\\python39\\lib\\site-packages (from importlib-metadata>=4.4->markdown>=2.6.8->tensorboard<2.17,>=2.16->tensorflow-intel==2.16.1->tensorflow) (3.18.1)\n",
      "Requirement already satisfied: mdurl~=0.1 in c:\\users\\anthony\\appdata\\roaming\\python\\python39\\site-packages (from markdown-it-py>=2.2.0->rich->keras>=3.0.0->tensorflow-intel==2.16.1->tensorflow) (0.1.2)\n",
      "Note: you may need to restart the kernel to use updated packages.\n",
      "Defaulting to user installation because normal site-packages is not writeable\n",
      "Requirement already satisfied: keras in c:\\users\\anthony\\appdata\\roaming\\python\\python39\\site-packages (3.3.3)\n",
      "Requirement already satisfied: absl-py in c:\\users\\anthony\\appdata\\roaming\\python\\python39\\site-packages (from keras) (2.1.0)\n",
      "Requirement already satisfied: numpy in c:\\users\\anthony\\appdata\\roaming\\python\\python39\\site-packages (from keras) (1.26.4)\n",
      "Requirement already satisfied: rich in c:\\users\\anthony\\appdata\\roaming\\python\\python39\\site-packages (from keras) (13.7.1)\n",
      "Requirement already satisfied: namex in c:\\users\\anthony\\appdata\\roaming\\python\\python39\\site-packages (from keras) (0.0.8)\n",
      "Requirement already satisfied: h5py in c:\\users\\anthony\\appdata\\roaming\\python\\python39\\site-packages (from keras) (3.11.0)\n",
      "Requirement already satisfied: optree in c:\\users\\anthony\\appdata\\roaming\\python\\python39\\site-packages (from keras) (0.11.0)\n",
      "Requirement already satisfied: ml-dtypes in c:\\users\\anthony\\appdata\\roaming\\python\\python39\\site-packages (from keras) (0.3.2)\n",
      "Requirement already satisfied: typing-extensions>=4.0.0 in c:\\program files\\python39\\lib\\site-packages (from optree->keras) (4.11.0)\n",
      "Requirement already satisfied: markdown-it-py>=2.2.0 in c:\\users\\anthony\\appdata\\roaming\\python\\python39\\site-packages (from rich->keras) (3.0.0)\n",
      "Requirement already satisfied: pygments<3.0.0,>=2.13.0 in c:\\program files\\python39\\lib\\site-packages (from rich->keras) (2.17.2)\n",
      "Requirement already satisfied: mdurl~=0.1 in c:\\users\\anthony\\appdata\\roaming\\python\\python39\\site-packages (from markdown-it-py>=2.2.0->rich->keras) (0.1.2)\n",
      "Note: you may need to restart the kernel to use updated packages.\n"
     ]
    }
   ],
   "execution_count": 33
  },
  {
   "cell_type": "markdown",
   "metadata": {
    "id": "Vy0wRnm2bUde"
   },
   "source": [
    "## Using raw data to train a MLP\n",
    "First load the `mnist` dataset and normalize it to be in the range [0, 1]"
   ]
  },
  {
   "cell_type": "code",
   "metadata": {
    "colab": {
     "base_uri": "https://localhost:8080/"
    },
    "id": "8CKuJwcibUdi",
    "outputId": "c86e03bc-50b3-4eb4-87a5-f37e47977427",
    "ExecuteTime": {
     "end_time": "2024-05-12T10:30:39.078330Z",
     "start_time": "2024-05-12T10:30:38.816334Z"
    }
   },
   "source": [
    "from tensorflow.keras.utils import to_categorical\n",
    "\n",
    "(X_train, y_train), (X_test, y_test) = mnist.load_data()\n",
    "\n",
    "X_train = X_train.reshape(60000, 784)\n",
    "X_test = X_test.reshape(10000, 784)\n",
    "X_train = X_train.astype('float32')\n",
    "X_test = X_test.astype('float32')\n",
    "X_train /= 255\n",
    "X_test /= 255\n",
    "print(X_train.shape[0], 'train samples')\n",
    "print(X_test.shape[0], 'test samples')\n",
    "\n",
    "n_classes = 10\n",
    "# convert class vectors to binary class matrices\n",
    "Y_train = to_categorical(y_train, n_classes)\n",
    "Y_test = to_categorical(y_test, n_classes)"
   ],
   "outputs": [
    {
     "name": "stdout",
     "output_type": "stream",
     "text": [
      "60000 train samples\n",
      "10000 test samples\n"
     ]
    }
   ],
   "execution_count": 34
  },
  {
   "cell_type": "markdown",
   "metadata": {
    "id": "01XwVeDNbUdv"
   },
   "source": [
    "Create the MLP"
   ]
  },
  {
   "cell_type": "code",
   "metadata": {
    "colab": {
     "base_uri": "https://localhost:8080/",
     "height": 204
    },
    "id": "DNgzrBJEbUd0",
    "outputId": "311fe53d-a96e-4720-9b90-a2940a15d452",
    "ExecuteTime": {
     "end_time": "2024-05-12T17:03:08.755875Z",
     "start_time": "2024-05-12T17:03:08.726875Z"
    }
   },
   "source": [
    "model = Sequential()\n",
    "model.add(Dense(50, input_shape=(784,), activation='sigmoid'))\n",
    "#model.add(Dropout(0.5))\n",
    "model.add(Dense(n_classes, activation='softmax'))\n",
    "\n",
    "model.summary()"
   ],
   "outputs": [
    {
     "name": "stderr",
     "output_type": "stream",
     "text": [
      "C:\\Users\\Anthony\\AppData\\Roaming\\Python\\Python39\\site-packages\\keras\\src\\layers\\core\\dense.py:87: UserWarning: Do not pass an `input_shape`/`input_dim` argument to a layer. When using Sequential models, prefer using an `Input(shape)` object as the first layer in the model instead.\n",
      "  super().__init__(activity_regularizer=activity_regularizer, **kwargs)\n"
     ]
    },
    {
     "data": {
      "text/plain": [
       "\u001B[1mModel: \"sequential_13\"\u001B[0m\n"
      ],
      "text/html": [
       "<pre style=\"white-space:pre;overflow-x:auto;line-height:normal;font-family:Menlo,'DejaVu Sans Mono',consolas,'Courier New',monospace\"><span style=\"font-weight: bold\">Model: \"sequential_13\"</span>\n",
       "</pre>\n"
      ]
     },
     "metadata": {},
     "output_type": "display_data"
    },
    {
     "data": {
      "text/plain": [
       "┏━━━━━━━━━━━━━━━━━━━━━━━━━━━━━━━━━┳━━━━━━━━━━━━━━━━━━━━━━━━┳━━━━━━━━━━━━━━━┓\n",
       "┃\u001B[1m \u001B[0m\u001B[1mLayer (type)                   \u001B[0m\u001B[1m \u001B[0m┃\u001B[1m \u001B[0m\u001B[1mOutput Shape          \u001B[0m\u001B[1m \u001B[0m┃\u001B[1m \u001B[0m\u001B[1m      Param #\u001B[0m\u001B[1m \u001B[0m┃\n",
       "┡━━━━━━━━━━━━━━━━━━━━━━━━━━━━━━━━━╇━━━━━━━━━━━━━━━━━━━━━━━━╇━━━━━━━━━━━━━━━┩\n",
       "│ dense_26 (\u001B[38;5;33mDense\u001B[0m)                │ (\u001B[38;5;45mNone\u001B[0m, \u001B[38;5;34m50\u001B[0m)             │        \u001B[38;5;34m39,250\u001B[0m │\n",
       "├─────────────────────────────────┼────────────────────────┼───────────────┤\n",
       "│ dense_27 (\u001B[38;5;33mDense\u001B[0m)                │ (\u001B[38;5;45mNone\u001B[0m, \u001B[38;5;34m10\u001B[0m)             │           \u001B[38;5;34m510\u001B[0m │\n",
       "└─────────────────────────────────┴────────────────────────┴───────────────┘\n"
      ],
      "text/html": [
       "<pre style=\"white-space:pre;overflow-x:auto;line-height:normal;font-family:Menlo,'DejaVu Sans Mono',consolas,'Courier New',monospace\">┏━━━━━━━━━━━━━━━━━━━━━━━━━━━━━━━━━┳━━━━━━━━━━━━━━━━━━━━━━━━┳━━━━━━━━━━━━━━━┓\n",
       "┃<span style=\"font-weight: bold\"> Layer (type)                    </span>┃<span style=\"font-weight: bold\"> Output Shape           </span>┃<span style=\"font-weight: bold\">       Param # </span>┃\n",
       "┡━━━━━━━━━━━━━━━━━━━━━━━━━━━━━━━━━╇━━━━━━━━━━━━━━━━━━━━━━━━╇━━━━━━━━━━━━━━━┩\n",
       "│ dense_26 (<span style=\"color: #0087ff; text-decoration-color: #0087ff\">Dense</span>)                │ (<span style=\"color: #00d7ff; text-decoration-color: #00d7ff\">None</span>, <span style=\"color: #00af00; text-decoration-color: #00af00\">50</span>)             │        <span style=\"color: #00af00; text-decoration-color: #00af00\">39,250</span> │\n",
       "├─────────────────────────────────┼────────────────────────┼───────────────┤\n",
       "│ dense_27 (<span style=\"color: #0087ff; text-decoration-color: #0087ff\">Dense</span>)                │ (<span style=\"color: #00d7ff; text-decoration-color: #00d7ff\">None</span>, <span style=\"color: #00af00; text-decoration-color: #00af00\">10</span>)             │           <span style=\"color: #00af00; text-decoration-color: #00af00\">510</span> │\n",
       "└─────────────────────────────────┴────────────────────────┴───────────────┘\n",
       "</pre>\n"
      ]
     },
     "metadata": {},
     "output_type": "display_data"
    },
    {
     "data": {
      "text/plain": [
       "\u001B[1m Total params: \u001B[0m\u001B[38;5;34m39,760\u001B[0m (155.31 KB)\n"
      ],
      "text/html": [
       "<pre style=\"white-space:pre;overflow-x:auto;line-height:normal;font-family:Menlo,'DejaVu Sans Mono',consolas,'Courier New',monospace\"><span style=\"font-weight: bold\"> Total params: </span><span style=\"color: #00af00; text-decoration-color: #00af00\">39,760</span> (155.31 KB)\n",
       "</pre>\n"
      ]
     },
     "metadata": {},
     "output_type": "display_data"
    },
    {
     "data": {
      "text/plain": [
       "\u001B[1m Trainable params: \u001B[0m\u001B[38;5;34m39,760\u001B[0m (155.31 KB)\n"
      ],
      "text/html": [
       "<pre style=\"white-space:pre;overflow-x:auto;line-height:normal;font-family:Menlo,'DejaVu Sans Mono',consolas,'Courier New',monospace\"><span style=\"font-weight: bold\"> Trainable params: </span><span style=\"color: #00af00; text-decoration-color: #00af00\">39,760</span> (155.31 KB)\n",
       "</pre>\n"
      ]
     },
     "metadata": {},
     "output_type": "display_data"
    },
    {
     "data": {
      "text/plain": [
       "\u001B[1m Non-trainable params: \u001B[0m\u001B[38;5;34m0\u001B[0m (0.00 B)\n"
      ],
      "text/html": [
       "<pre style=\"white-space:pre;overflow-x:auto;line-height:normal;font-family:Menlo,'DejaVu Sans Mono',consolas,'Courier New',monospace\"><span style=\"font-weight: bold\"> Non-trainable params: </span><span style=\"color: #00af00; text-decoration-color: #00af00\">0</span> (0.00 B)\n",
       "</pre>\n"
      ]
     },
     "metadata": {},
     "output_type": "display_data"
    }
   ],
   "execution_count": 56
  },
  {
   "cell_type": "markdown",
   "metadata": {
    "id": "Peiq9GR2bUeN"
   },
   "source": [
    "Define some constants and train the MLP"
   ]
  },
  {
   "cell_type": "code",
   "metadata": {
    "colab": {
     "base_uri": "https://localhost:8080/"
    },
    "id": "NBt-ReqIbUeR",
    "outputId": "ace087ba-fb58-41b9-c930-aca30d2bd82f",
    "ExecuteTime": {
     "end_time": "2024-05-12T17:04:22.571407Z",
     "start_time": "2024-05-12T17:03:08.767373Z"
    }
   },
   "source": [
    "from keras.src.optimizers import *\n",
    "\n",
    "batch_size = 64\n",
    "n_epoch = 90\n",
    "\n",
    "model.compile(loss='categorical_crossentropy', optimizer=AdamW(), metrics=['accuracy'])\n",
    "\n",
    "history = model.fit(X_train, Y_train,\n",
    "                    batch_size=batch_size, epochs=n_epoch,\n",
    "                    verbose=1, validation_split=0.3)"
   ],
   "outputs": [
    {
     "name": "stdout",
     "output_type": "stream",
     "text": [
      "Epoch 1/90\n",
      "\u001B[1m657/657\u001B[0m \u001B[32m━━━━━━━━━━━━━━━━━━━━\u001B[0m\u001B[37m\u001B[0m \u001B[1m2s\u001B[0m 1ms/step - accuracy: 0.7297 - loss: 1.1628 - val_accuracy: 0.9035 - val_loss: 0.3722\n",
      "Epoch 2/90\n",
      "\u001B[1m657/657\u001B[0m \u001B[32m━━━━━━━━━━━━━━━━━━━━\u001B[0m\u001B[37m\u001B[0m \u001B[1m1s\u001B[0m 1ms/step - accuracy: 0.9101 - loss: 0.3384 - val_accuracy: 0.9233 - val_loss: 0.2777\n",
      "Epoch 3/90\n",
      "\u001B[1m657/657\u001B[0m \u001B[32m━━━━━━━━━━━━━━━━━━━━\u001B[0m\u001B[37m\u001B[0m \u001B[1m1s\u001B[0m 1ms/step - accuracy: 0.9295 - loss: 0.2541 - val_accuracy: 0.9331 - val_loss: 0.2384\n",
      "Epoch 4/90\n",
      "\u001B[1m657/657\u001B[0m \u001B[32m━━━━━━━━━━━━━━━━━━━━\u001B[0m\u001B[37m\u001B[0m \u001B[1m1s\u001B[0m 1ms/step - accuracy: 0.9401 - loss: 0.2193 - val_accuracy: 0.9398 - val_loss: 0.2134\n",
      "Epoch 5/90\n",
      "\u001B[1m657/657\u001B[0m \u001B[32m━━━━━━━━━━━━━━━━━━━━\u001B[0m\u001B[37m\u001B[0m \u001B[1m1s\u001B[0m 1ms/step - accuracy: 0.9473 - loss: 0.1862 - val_accuracy: 0.9447 - val_loss: 0.1936\n",
      "Epoch 6/90\n",
      "\u001B[1m657/657\u001B[0m \u001B[32m━━━━━━━━━━━━━━━━━━━━\u001B[0m\u001B[37m\u001B[0m \u001B[1m1s\u001B[0m 1ms/step - accuracy: 0.9531 - loss: 0.1678 - val_accuracy: 0.9487 - val_loss: 0.1797\n",
      "Epoch 7/90\n",
      "\u001B[1m657/657\u001B[0m \u001B[32m━━━━━━━━━━━━━━━━━━━━\u001B[0m\u001B[37m\u001B[0m \u001B[1m1s\u001B[0m 1ms/step - accuracy: 0.9603 - loss: 0.1472 - val_accuracy: 0.9516 - val_loss: 0.1692\n",
      "Epoch 8/90\n",
      "\u001B[1m657/657\u001B[0m \u001B[32m━━━━━━━━━━━━━━━━━━━━\u001B[0m\u001B[37m\u001B[0m \u001B[1m1s\u001B[0m 1ms/step - accuracy: 0.9617 - loss: 0.1373 - val_accuracy: 0.9537 - val_loss: 0.1613\n",
      "Epoch 9/90\n",
      "\u001B[1m657/657\u001B[0m \u001B[32m━━━━━━━━━━━━━━━━━━━━\u001B[0m\u001B[37m\u001B[0m \u001B[1m1s\u001B[0m 1ms/step - accuracy: 0.9655 - loss: 0.1244 - val_accuracy: 0.9558 - val_loss: 0.1529\n",
      "Epoch 10/90\n",
      "\u001B[1m657/657\u001B[0m \u001B[32m━━━━━━━━━━━━━━━━━━━━\u001B[0m\u001B[37m\u001B[0m \u001B[1m1s\u001B[0m 1ms/step - accuracy: 0.9686 - loss: 0.1125 - val_accuracy: 0.9582 - val_loss: 0.1457\n",
      "Epoch 11/90\n",
      "\u001B[1m657/657\u001B[0m \u001B[32m━━━━━━━━━━━━━━━━━━━━\u001B[0m\u001B[37m\u001B[0m \u001B[1m1s\u001B[0m 1ms/step - accuracy: 0.9690 - loss: 0.1083 - val_accuracy: 0.9580 - val_loss: 0.1425\n",
      "Epoch 12/90\n",
      "\u001B[1m657/657\u001B[0m \u001B[32m━━━━━━━━━━━━━━━━━━━━\u001B[0m\u001B[37m\u001B[0m \u001B[1m1s\u001B[0m 1ms/step - accuracy: 0.9738 - loss: 0.0988 - val_accuracy: 0.9591 - val_loss: 0.1402\n",
      "Epoch 13/90\n",
      "\u001B[1m657/657\u001B[0m \u001B[32m━━━━━━━━━━━━━━━━━━━━\u001B[0m\u001B[37m\u001B[0m \u001B[1m1s\u001B[0m 1ms/step - accuracy: 0.9765 - loss: 0.0859 - val_accuracy: 0.9609 - val_loss: 0.1328\n",
      "Epoch 14/90\n",
      "\u001B[1m657/657\u001B[0m \u001B[32m━━━━━━━━━━━━━━━━━━━━\u001B[0m\u001B[37m\u001B[0m \u001B[1m1s\u001B[0m 1ms/step - accuracy: 0.9775 - loss: 0.0838 - val_accuracy: 0.9613 - val_loss: 0.1309\n",
      "Epoch 15/90\n",
      "\u001B[1m657/657\u001B[0m \u001B[32m━━━━━━━━━━━━━━━━━━━━\u001B[0m\u001B[37m\u001B[0m \u001B[1m1s\u001B[0m 1ms/step - accuracy: 0.9799 - loss: 0.0761 - val_accuracy: 0.9621 - val_loss: 0.1290\n",
      "Epoch 16/90\n",
      "\u001B[1m657/657\u001B[0m \u001B[32m━━━━━━━━━━━━━━━━━━━━\u001B[0m\u001B[37m\u001B[0m \u001B[1m1s\u001B[0m 1ms/step - accuracy: 0.9804 - loss: 0.0742 - val_accuracy: 0.9636 - val_loss: 0.1252\n",
      "Epoch 17/90\n",
      "\u001B[1m657/657\u001B[0m \u001B[32m━━━━━━━━━━━━━━━━━━━━\u001B[0m\u001B[37m\u001B[0m \u001B[1m1s\u001B[0m 1ms/step - accuracy: 0.9826 - loss: 0.0664 - val_accuracy: 0.9613 - val_loss: 0.1268\n",
      "Epoch 18/90\n",
      "\u001B[1m657/657\u001B[0m \u001B[32m━━━━━━━━━━━━━━━━━━━━\u001B[0m\u001B[37m\u001B[0m \u001B[1m1s\u001B[0m 1ms/step - accuracy: 0.9849 - loss: 0.0640 - val_accuracy: 0.9625 - val_loss: 0.1237\n",
      "Epoch 19/90\n",
      "\u001B[1m657/657\u001B[0m \u001B[32m━━━━━━━━━━━━━━━━━━━━\u001B[0m\u001B[37m\u001B[0m \u001B[1m1s\u001B[0m 1ms/step - accuracy: 0.9851 - loss: 0.0615 - val_accuracy: 0.9642 - val_loss: 0.1205\n",
      "Epoch 20/90\n",
      "\u001B[1m657/657\u001B[0m \u001B[32m━━━━━━━━━━━━━━━━━━━━\u001B[0m\u001B[37m\u001B[0m \u001B[1m1s\u001B[0m 1ms/step - accuracy: 0.9852 - loss: 0.0583 - val_accuracy: 0.9635 - val_loss: 0.1213\n",
      "Epoch 21/90\n",
      "\u001B[1m657/657\u001B[0m \u001B[32m━━━━━━━━━━━━━━━━━━━━\u001B[0m\u001B[37m\u001B[0m \u001B[1m1s\u001B[0m 1ms/step - accuracy: 0.9876 - loss: 0.0530 - val_accuracy: 0.9641 - val_loss: 0.1185\n",
      "Epoch 22/90\n",
      "\u001B[1m657/657\u001B[0m \u001B[32m━━━━━━━━━━━━━━━━━━━━\u001B[0m\u001B[37m\u001B[0m \u001B[1m1s\u001B[0m 1ms/step - accuracy: 0.9881 - loss: 0.0524 - val_accuracy: 0.9642 - val_loss: 0.1180\n",
      "Epoch 23/90\n",
      "\u001B[1m657/657\u001B[0m \u001B[32m━━━━━━━━━━━━━━━━━━━━\u001B[0m\u001B[37m\u001B[0m \u001B[1m1s\u001B[0m 1ms/step - accuracy: 0.9899 - loss: 0.0469 - val_accuracy: 0.9652 - val_loss: 0.1176\n",
      "Epoch 24/90\n",
      "\u001B[1m657/657\u001B[0m \u001B[32m━━━━━━━━━━━━━━━━━━━━\u001B[0m\u001B[37m\u001B[0m \u001B[1m1s\u001B[0m 1ms/step - accuracy: 0.9913 - loss: 0.0419 - val_accuracy: 0.9648 - val_loss: 0.1166\n",
      "Epoch 25/90\n",
      "\u001B[1m657/657\u001B[0m \u001B[32m━━━━━━━━━━━━━━━━━━━━\u001B[0m\u001B[37m\u001B[0m \u001B[1m1s\u001B[0m 1ms/step - accuracy: 0.9913 - loss: 0.0413 - val_accuracy: 0.9646 - val_loss: 0.1187\n",
      "Epoch 26/90\n",
      "\u001B[1m657/657\u001B[0m \u001B[32m━━━━━━━━━━━━━━━━━━━━\u001B[0m\u001B[37m\u001B[0m \u001B[1m1s\u001B[0m 1ms/step - accuracy: 0.9915 - loss: 0.0401 - val_accuracy: 0.9654 - val_loss: 0.1150\n",
      "Epoch 27/90\n",
      "\u001B[1m657/657\u001B[0m \u001B[32m━━━━━━━━━━━━━━━━━━━━\u001B[0m\u001B[37m\u001B[0m \u001B[1m1s\u001B[0m 1ms/step - accuracy: 0.9926 - loss: 0.0387 - val_accuracy: 0.9653 - val_loss: 0.1164\n",
      "Epoch 28/90\n",
      "\u001B[1m657/657\u001B[0m \u001B[32m━━━━━━━━━━━━━━━━━━━━\u001B[0m\u001B[37m\u001B[0m \u001B[1m1s\u001B[0m 1ms/step - accuracy: 0.9938 - loss: 0.0335 - val_accuracy: 0.9648 - val_loss: 0.1161\n",
      "Epoch 29/90\n",
      "\u001B[1m657/657\u001B[0m \u001B[32m━━━━━━━━━━━━━━━━━━━━\u001B[0m\u001B[37m\u001B[0m \u001B[1m1s\u001B[0m 1ms/step - accuracy: 0.9941 - loss: 0.0321 - val_accuracy: 0.9661 - val_loss: 0.1152\n",
      "Epoch 30/90\n",
      "\u001B[1m657/657\u001B[0m \u001B[32m━━━━━━━━━━━━━━━━━━━━\u001B[0m\u001B[37m\u001B[0m \u001B[1m1s\u001B[0m 1ms/step - accuracy: 0.9944 - loss: 0.0311 - val_accuracy: 0.9657 - val_loss: 0.1146\n",
      "Epoch 31/90\n",
      "\u001B[1m657/657\u001B[0m \u001B[32m━━━━━━━━━━━━━━━━━━━━\u001B[0m\u001B[37m\u001B[0m \u001B[1m1s\u001B[0m 1ms/step - accuracy: 0.9955 - loss: 0.0281 - val_accuracy: 0.9645 - val_loss: 0.1168\n",
      "Epoch 32/90\n",
      "\u001B[1m657/657\u001B[0m \u001B[32m━━━━━━━━━━━━━━━━━━━━\u001B[0m\u001B[37m\u001B[0m \u001B[1m1s\u001B[0m 1ms/step - accuracy: 0.9951 - loss: 0.0283 - val_accuracy: 0.9646 - val_loss: 0.1150\n",
      "Epoch 33/90\n",
      "\u001B[1m657/657\u001B[0m \u001B[32m━━━━━━━━━━━━━━━━━━━━\u001B[0m\u001B[37m\u001B[0m \u001B[1m1s\u001B[0m 1ms/step - accuracy: 0.9960 - loss: 0.0262 - val_accuracy: 0.9646 - val_loss: 0.1177\n",
      "Epoch 34/90\n",
      "\u001B[1m657/657\u001B[0m \u001B[32m━━━━━━━━━━━━━━━━━━━━\u001B[0m\u001B[37m\u001B[0m \u001B[1m1s\u001B[0m 1ms/step - accuracy: 0.9958 - loss: 0.0262 - val_accuracy: 0.9654 - val_loss: 0.1162\n",
      "Epoch 35/90\n",
      "\u001B[1m657/657\u001B[0m \u001B[32m━━━━━━━━━━━━━━━━━━━━\u001B[0m\u001B[37m\u001B[0m \u001B[1m1s\u001B[0m 1ms/step - accuracy: 0.9970 - loss: 0.0224 - val_accuracy: 0.9655 - val_loss: 0.1168\n",
      "Epoch 36/90\n",
      "\u001B[1m657/657\u001B[0m \u001B[32m━━━━━━━━━━━━━━━━━━━━\u001B[0m\u001B[37m\u001B[0m \u001B[1m1s\u001B[0m 1ms/step - accuracy: 0.9968 - loss: 0.0220 - val_accuracy: 0.9654 - val_loss: 0.1175\n",
      "Epoch 37/90\n",
      "\u001B[1m657/657\u001B[0m \u001B[32m━━━━━━━━━━━━━━━━━━━━\u001B[0m\u001B[37m\u001B[0m \u001B[1m1s\u001B[0m 1ms/step - accuracy: 0.9977 - loss: 0.0204 - val_accuracy: 0.9637 - val_loss: 0.1197\n",
      "Epoch 38/90\n",
      "\u001B[1m657/657\u001B[0m \u001B[32m━━━━━━━━━━━━━━━━━━━━\u001B[0m\u001B[37m\u001B[0m \u001B[1m1s\u001B[0m 1ms/step - accuracy: 0.9970 - loss: 0.0201 - val_accuracy: 0.9656 - val_loss: 0.1172\n",
      "Epoch 39/90\n",
      "\u001B[1m657/657\u001B[0m \u001B[32m━━━━━━━━━━━━━━━━━━━━\u001B[0m\u001B[37m\u001B[0m \u001B[1m1s\u001B[0m 1ms/step - accuracy: 0.9977 - loss: 0.0179 - val_accuracy: 0.9661 - val_loss: 0.1172\n",
      "Epoch 40/90\n",
      "\u001B[1m657/657\u001B[0m \u001B[32m━━━━━━━━━━━━━━━━━━━━\u001B[0m\u001B[37m\u001B[0m \u001B[1m1s\u001B[0m 1ms/step - accuracy: 0.9988 - loss: 0.0161 - val_accuracy: 0.9650 - val_loss: 0.1215\n",
      "Epoch 41/90\n",
      "\u001B[1m657/657\u001B[0m \u001B[32m━━━━━━━━━━━━━━━━━━━━\u001B[0m\u001B[37m\u001B[0m \u001B[1m1s\u001B[0m 1ms/step - accuracy: 0.9984 - loss: 0.0161 - val_accuracy: 0.9648 - val_loss: 0.1203\n",
      "Epoch 42/90\n",
      "\u001B[1m657/657\u001B[0m \u001B[32m━━━━━━━━━━━━━━━━━━━━\u001B[0m\u001B[37m\u001B[0m \u001B[1m1s\u001B[0m 1ms/step - accuracy: 0.9984 - loss: 0.0145 - val_accuracy: 0.9638 - val_loss: 0.1212\n",
      "Epoch 43/90\n",
      "\u001B[1m657/657\u001B[0m \u001B[32m━━━━━━━━━━━━━━━━━━━━\u001B[0m\u001B[37m\u001B[0m \u001B[1m1s\u001B[0m 1ms/step - accuracy: 0.9985 - loss: 0.0144 - val_accuracy: 0.9656 - val_loss: 0.1198\n",
      "Epoch 44/90\n",
      "\u001B[1m657/657\u001B[0m \u001B[32m━━━━━━━━━━━━━━━━━━━━\u001B[0m\u001B[37m\u001B[0m \u001B[1m1s\u001B[0m 1ms/step - accuracy: 0.9990 - loss: 0.0130 - val_accuracy: 0.9648 - val_loss: 0.1228\n",
      "Epoch 45/90\n",
      "\u001B[1m657/657\u001B[0m \u001B[32m━━━━━━━━━━━━━━━━━━━━\u001B[0m\u001B[37m\u001B[0m \u001B[1m1s\u001B[0m 1ms/step - accuracy: 0.9989 - loss: 0.0128 - val_accuracy: 0.9647 - val_loss: 0.1233\n",
      "Epoch 46/90\n",
      "\u001B[1m657/657\u001B[0m \u001B[32m━━━━━━━━━━━━━━━━━━━━\u001B[0m\u001B[37m\u001B[0m \u001B[1m1s\u001B[0m 1ms/step - accuracy: 0.9992 - loss: 0.0118 - val_accuracy: 0.9651 - val_loss: 0.1267\n",
      "Epoch 47/90\n",
      "\u001B[1m657/657\u001B[0m \u001B[32m━━━━━━━━━━━━━━━━━━━━\u001B[0m\u001B[37m\u001B[0m \u001B[1m1s\u001B[0m 1ms/step - accuracy: 0.9993 - loss: 0.0110 - val_accuracy: 0.9651 - val_loss: 0.1246\n",
      "Epoch 48/90\n",
      "\u001B[1m657/657\u001B[0m \u001B[32m━━━━━━━━━━━━━━━━━━━━\u001B[0m\u001B[37m\u001B[0m \u001B[1m1s\u001B[0m 1ms/step - accuracy: 0.9996 - loss: 0.0101 - val_accuracy: 0.9645 - val_loss: 0.1256\n",
      "Epoch 49/90\n",
      "\u001B[1m657/657\u001B[0m \u001B[32m━━━━━━━━━━━━━━━━━━━━\u001B[0m\u001B[37m\u001B[0m \u001B[1m1s\u001B[0m 1ms/step - accuracy: 0.9992 - loss: 0.0101 - val_accuracy: 0.9652 - val_loss: 0.1271\n",
      "Epoch 50/90\n",
      "\u001B[1m657/657\u001B[0m \u001B[32m━━━━━━━━━━━━━━━━━━━━\u001B[0m\u001B[37m\u001B[0m \u001B[1m1s\u001B[0m 1ms/step - accuracy: 0.9997 - loss: 0.0088 - val_accuracy: 0.9647 - val_loss: 0.1268\n",
      "Epoch 51/90\n",
      "\u001B[1m657/657\u001B[0m \u001B[32m━━━━━━━━━━━━━━━━━━━━\u001B[0m\u001B[37m\u001B[0m \u001B[1m1s\u001B[0m 1ms/step - accuracy: 0.9996 - loss: 0.0085 - val_accuracy: 0.9650 - val_loss: 0.1290\n",
      "Epoch 52/90\n",
      "\u001B[1m657/657\u001B[0m \u001B[32m━━━━━━━━━━━━━━━━━━━━\u001B[0m\u001B[37m\u001B[0m \u001B[1m1s\u001B[0m 1ms/step - accuracy: 0.9994 - loss: 0.0086 - val_accuracy: 0.9644 - val_loss: 0.1306\n",
      "Epoch 53/90\n",
      "\u001B[1m657/657\u001B[0m \u001B[32m━━━━━━━━━━━━━━━━━━━━\u001B[0m\u001B[37m\u001B[0m \u001B[1m1s\u001B[0m 1ms/step - accuracy: 0.9997 - loss: 0.0074 - val_accuracy: 0.9647 - val_loss: 0.1313\n",
      "Epoch 54/90\n",
      "\u001B[1m657/657\u001B[0m \u001B[32m━━━━━━━━━━━━━━━━━━━━\u001B[0m\u001B[37m\u001B[0m \u001B[1m1s\u001B[0m 1ms/step - accuracy: 0.9997 - loss: 0.0069 - val_accuracy: 0.9638 - val_loss: 0.1331\n",
      "Epoch 55/90\n",
      "\u001B[1m657/657\u001B[0m \u001B[32m━━━━━━━━━━━━━━━━━━━━\u001B[0m\u001B[37m\u001B[0m \u001B[1m1s\u001B[0m 1ms/step - accuracy: 0.9999 - loss: 0.0065 - val_accuracy: 0.9646 - val_loss: 0.1343\n",
      "Epoch 56/90\n",
      "\u001B[1m657/657\u001B[0m \u001B[32m━━━━━━━━━━━━━━━━━━━━\u001B[0m\u001B[37m\u001B[0m \u001B[1m1s\u001B[0m 1ms/step - accuracy: 1.0000 - loss: 0.0062 - val_accuracy: 0.9641 - val_loss: 0.1355\n",
      "Epoch 57/90\n",
      "\u001B[1m657/657\u001B[0m \u001B[32m━━━━━━━━━━━━━━━━━━━━\u001B[0m\u001B[37m\u001B[0m \u001B[1m1s\u001B[0m 1ms/step - accuracy: 0.9999 - loss: 0.0056 - val_accuracy: 0.9648 - val_loss: 0.1328\n",
      "Epoch 58/90\n",
      "\u001B[1m657/657\u001B[0m \u001B[32m━━━━━━━━━━━━━━━━━━━━\u001B[0m\u001B[37m\u001B[0m \u001B[1m1s\u001B[0m 1ms/step - accuracy: 1.0000 - loss: 0.0055 - val_accuracy: 0.9644 - val_loss: 0.1375\n",
      "Epoch 59/90\n",
      "\u001B[1m657/657\u001B[0m \u001B[32m━━━━━━━━━━━━━━━━━━━━\u001B[0m\u001B[37m\u001B[0m \u001B[1m1s\u001B[0m 1ms/step - accuracy: 1.0000 - loss: 0.0051 - val_accuracy: 0.9646 - val_loss: 0.1379\n",
      "Epoch 60/90\n",
      "\u001B[1m657/657\u001B[0m \u001B[32m━━━━━━━━━━━━━━━━━━━━\u001B[0m\u001B[37m\u001B[0m \u001B[1m1s\u001B[0m 1ms/step - accuracy: 1.0000 - loss: 0.0047 - val_accuracy: 0.9639 - val_loss: 0.1396\n",
      "Epoch 61/90\n",
      "\u001B[1m657/657\u001B[0m \u001B[32m━━━━━━━━━━━━━━━━━━━━\u001B[0m\u001B[37m\u001B[0m \u001B[1m1s\u001B[0m 1ms/step - accuracy: 1.0000 - loss: 0.0043 - val_accuracy: 0.9646 - val_loss: 0.1382\n",
      "Epoch 62/90\n",
      "\u001B[1m657/657\u001B[0m \u001B[32m━━━━━━━━━━━━━━━━━━━━\u001B[0m\u001B[37m\u001B[0m \u001B[1m1s\u001B[0m 1ms/step - accuracy: 1.0000 - loss: 0.0041 - val_accuracy: 0.9645 - val_loss: 0.1407\n",
      "Epoch 63/90\n",
      "\u001B[1m657/657\u001B[0m \u001B[32m━━━━━━━━━━━━━━━━━━━━\u001B[0m\u001B[37m\u001B[0m \u001B[1m1s\u001B[0m 1ms/step - accuracy: 1.0000 - loss: 0.0040 - val_accuracy: 0.9648 - val_loss: 0.1410\n",
      "Epoch 64/90\n",
      "\u001B[1m657/657\u001B[0m \u001B[32m━━━━━━━━━━━━━━━━━━━━\u001B[0m\u001B[37m\u001B[0m \u001B[1m1s\u001B[0m 1ms/step - accuracy: 1.0000 - loss: 0.0035 - val_accuracy: 0.9649 - val_loss: 0.1421\n",
      "Epoch 65/90\n",
      "\u001B[1m657/657\u001B[0m \u001B[32m━━━━━━━━━━━━━━━━━━━━\u001B[0m\u001B[37m\u001B[0m \u001B[1m1s\u001B[0m 1ms/step - accuracy: 1.0000 - loss: 0.0035 - val_accuracy: 0.9638 - val_loss: 0.1467\n",
      "Epoch 66/90\n",
      "\u001B[1m657/657\u001B[0m \u001B[32m━━━━━━━━━━━━━━━━━━━━\u001B[0m\u001B[37m\u001B[0m \u001B[1m1s\u001B[0m 1ms/step - accuracy: 1.0000 - loss: 0.0033 - val_accuracy: 0.9648 - val_loss: 0.1443\n",
      "Epoch 67/90\n",
      "\u001B[1m657/657\u001B[0m \u001B[32m━━━━━━━━━━━━━━━━━━━━\u001B[0m\u001B[37m\u001B[0m \u001B[1m1s\u001B[0m 1ms/step - accuracy: 1.0000 - loss: 0.0030 - val_accuracy: 0.9626 - val_loss: 0.1492\n",
      "Epoch 68/90\n",
      "\u001B[1m657/657\u001B[0m \u001B[32m━━━━━━━━━━━━━━━━━━━━\u001B[0m\u001B[37m\u001B[0m \u001B[1m1s\u001B[0m 1ms/step - accuracy: 1.0000 - loss: 0.0029 - val_accuracy: 0.9643 - val_loss: 0.1477\n",
      "Epoch 69/90\n",
      "\u001B[1m657/657\u001B[0m \u001B[32m━━━━━━━━━━━━━━━━━━━━\u001B[0m\u001B[37m\u001B[0m \u001B[1m1s\u001B[0m 1ms/step - accuracy: 1.0000 - loss: 0.0026 - val_accuracy: 0.9642 - val_loss: 0.1482\n",
      "Epoch 70/90\n",
      "\u001B[1m657/657\u001B[0m \u001B[32m━━━━━━━━━━━━━━━━━━━━\u001B[0m\u001B[37m\u001B[0m \u001B[1m1s\u001B[0m 1ms/step - accuracy: 1.0000 - loss: 0.0025 - val_accuracy: 0.9628 - val_loss: 0.1507\n",
      "Epoch 71/90\n",
      "\u001B[1m657/657\u001B[0m \u001B[32m━━━━━━━━━━━━━━━━━━━━\u001B[0m\u001B[37m\u001B[0m \u001B[1m1s\u001B[0m 1ms/step - accuracy: 1.0000 - loss: 0.0023 - val_accuracy: 0.9634 - val_loss: 0.1516\n",
      "Epoch 72/90\n",
      "\u001B[1m657/657\u001B[0m \u001B[32m━━━━━━━━━━━━━━━━━━━━\u001B[0m\u001B[37m\u001B[0m \u001B[1m1s\u001B[0m 1ms/step - accuracy: 1.0000 - loss: 0.0022 - val_accuracy: 0.9639 - val_loss: 0.1530\n",
      "Epoch 73/90\n",
      "\u001B[1m657/657\u001B[0m \u001B[32m━━━━━━━━━━━━━━━━━━━━\u001B[0m\u001B[37m\u001B[0m \u001B[1m1s\u001B[0m 1ms/step - accuracy: 1.0000 - loss: 0.0021 - val_accuracy: 0.9639 - val_loss: 0.1532\n",
      "Epoch 74/90\n",
      "\u001B[1m657/657\u001B[0m \u001B[32m━━━━━━━━━━━━━━━━━━━━\u001B[0m\u001B[37m\u001B[0m \u001B[1m1s\u001B[0m 1ms/step - accuracy: 1.0000 - loss: 0.0019 - val_accuracy: 0.9625 - val_loss: 0.1592\n",
      "Epoch 75/90\n",
      "\u001B[1m657/657\u001B[0m \u001B[32m━━━━━━━━━━━━━━━━━━━━\u001B[0m\u001B[37m\u001B[0m \u001B[1m1s\u001B[0m 1ms/step - accuracy: 1.0000 - loss: 0.0020 - val_accuracy: 0.9633 - val_loss: 0.1578\n",
      "Epoch 76/90\n",
      "\u001B[1m657/657\u001B[0m \u001B[32m━━━━━━━━━━━━━━━━━━━━\u001B[0m\u001B[37m\u001B[0m \u001B[1m1s\u001B[0m 1ms/step - accuracy: 1.0000 - loss: 0.0016 - val_accuracy: 0.9633 - val_loss: 0.1576\n",
      "Epoch 77/90\n",
      "\u001B[1m657/657\u001B[0m \u001B[32m━━━━━━━━━━━━━━━━━━━━\u001B[0m\u001B[37m\u001B[0m \u001B[1m1s\u001B[0m 1ms/step - accuracy: 1.0000 - loss: 0.0016 - val_accuracy: 0.9634 - val_loss: 0.1587\n",
      "Epoch 78/90\n",
      "\u001B[1m657/657\u001B[0m \u001B[32m━━━━━━━━━━━━━━━━━━━━\u001B[0m\u001B[37m\u001B[0m \u001B[1m1s\u001B[0m 1ms/step - accuracy: 1.0000 - loss: 0.0015 - val_accuracy: 0.9633 - val_loss: 0.1627\n",
      "Epoch 79/90\n",
      "\u001B[1m657/657\u001B[0m \u001B[32m━━━━━━━━━━━━━━━━━━━━\u001B[0m\u001B[37m\u001B[0m \u001B[1m1s\u001B[0m 1ms/step - accuracy: 1.0000 - loss: 0.0014 - val_accuracy: 0.9632 - val_loss: 0.1618\n",
      "Epoch 80/90\n",
      "\u001B[1m657/657\u001B[0m \u001B[32m━━━━━━━━━━━━━━━━━━━━\u001B[0m\u001B[37m\u001B[0m \u001B[1m1s\u001B[0m 1ms/step - accuracy: 1.0000 - loss: 0.0013 - val_accuracy: 0.9639 - val_loss: 0.1610\n",
      "Epoch 81/90\n",
      "\u001B[1m657/657\u001B[0m \u001B[32m━━━━━━━━━━━━━━━━━━━━\u001B[0m\u001B[37m\u001B[0m \u001B[1m1s\u001B[0m 1ms/step - accuracy: 1.0000 - loss: 0.0012 - val_accuracy: 0.9639 - val_loss: 0.1624\n",
      "Epoch 82/90\n",
      "\u001B[1m657/657\u001B[0m \u001B[32m━━━━━━━━━━━━━━━━━━━━\u001B[0m\u001B[37m\u001B[0m \u001B[1m1s\u001B[0m 1ms/step - accuracy: 1.0000 - loss: 0.0011 - val_accuracy: 0.9632 - val_loss: 0.1663\n",
      "Epoch 83/90\n",
      "\u001B[1m657/657\u001B[0m \u001B[32m━━━━━━━━━━━━━━━━━━━━\u001B[0m\u001B[37m\u001B[0m \u001B[1m1s\u001B[0m 1ms/step - accuracy: 1.0000 - loss: 0.0010 - val_accuracy: 0.9623 - val_loss: 0.1732\n",
      "Epoch 84/90\n",
      "\u001B[1m657/657\u001B[0m \u001B[32m━━━━━━━━━━━━━━━━━━━━\u001B[0m\u001B[37m\u001B[0m \u001B[1m1s\u001B[0m 1ms/step - accuracy: 1.0000 - loss: 0.0011 - val_accuracy: 0.9633 - val_loss: 0.1687\n",
      "Epoch 85/90\n",
      "\u001B[1m657/657\u001B[0m \u001B[32m━━━━━━━━━━━━━━━━━━━━\u001B[0m\u001B[37m\u001B[0m \u001B[1m1s\u001B[0m 1ms/step - accuracy: 1.0000 - loss: 9.4467e-04 - val_accuracy: 0.9634 - val_loss: 0.1706\n",
      "Epoch 86/90\n",
      "\u001B[1m657/657\u001B[0m \u001B[32m━━━━━━━━━━━━━━━━━━━━\u001B[0m\u001B[37m\u001B[0m \u001B[1m1s\u001B[0m 1ms/step - accuracy: 1.0000 - loss: 0.0010 - val_accuracy: 0.9636 - val_loss: 0.1704\n",
      "Epoch 87/90\n",
      "\u001B[1m657/657\u001B[0m \u001B[32m━━━━━━━━━━━━━━━━━━━━\u001B[0m\u001B[37m\u001B[0m \u001B[1m1s\u001B[0m 1ms/step - accuracy: 1.0000 - loss: 7.9112e-04 - val_accuracy: 0.9634 - val_loss: 0.1748\n",
      "Epoch 88/90\n",
      "\u001B[1m657/657\u001B[0m \u001B[32m━━━━━━━━━━━━━━━━━━━━\u001B[0m\u001B[37m\u001B[0m \u001B[1m1s\u001B[0m 1ms/step - accuracy: 1.0000 - loss: 7.5309e-04 - val_accuracy: 0.9634 - val_loss: 0.1742\n",
      "Epoch 89/90\n",
      "\u001B[1m657/657\u001B[0m \u001B[32m━━━━━━━━━━━━━━━━━━━━\u001B[0m\u001B[37m\u001B[0m \u001B[1m1s\u001B[0m 1ms/step - accuracy: 1.0000 - loss: 7.1195e-04 - val_accuracy: 0.9629 - val_loss: 0.1750\n",
      "Epoch 90/90\n",
      "\u001B[1m657/657\u001B[0m \u001B[32m━━━━━━━━━━━━━━━━━━━━\u001B[0m\u001B[37m\u001B[0m \u001B[1m1s\u001B[0m 1ms/step - accuracy: 1.0000 - loss: 6.9272e-04 - val_accuracy: 0.9637 - val_loss: 0.1777\n"
     ]
    }
   ],
   "execution_count": 57
  },
  {
   "cell_type": "markdown",
   "metadata": {
    "id": "7u_zpHr5bUeb"
   },
   "source": [
    "Show the performance of the model"
   ]
  },
  {
   "cell_type": "code",
   "metadata": {
    "colab": {
     "base_uri": "https://localhost:8080/",
     "height": 469
    },
    "id": "PHXi21E1bUef",
    "outputId": "b6e27fa4-a128-4cd3-abbb-050545b2f167",
    "ExecuteTime": {
     "end_time": "2024-05-12T17:04:22.943503Z",
     "start_time": "2024-05-12T17:04:22.573910Z"
    }
   },
   "source": [
    "pl.plot(history.history['loss'], label='Training')\n",
    "pl.plot(history.history['val_loss'], label='Testing')\n",
    "pl.legend()\n",
    "pl.grid()\n",
    "\n",
    "score = model.evaluate(X_test, Y_test, verbose=0)\n",
    "print('Test score (loss):', score[0])\n",
    "print('Test accuracy:', score[1])"
   ],
   "outputs": [
    {
     "name": "stdout",
     "output_type": "stream",
     "text": [
      "Test score (loss): 0.1530563086271286\n",
      "Test accuracy: 0.9685999751091003\n"
     ]
    },
    {
     "data": {
      "text/plain": [
       "<Figure size 640x480 with 1 Axes>"
      ],
      "image/png": "[encoded data removed]"
     },
     "metadata": {},
     "output_type": "display_data"
    }
   ],
   "execution_count": 58
  },
  {
   "cell_type": "markdown",
   "metadata": {
    "id": "jLuFK6MobUet"
   },
   "source": [
    "Confusion matrix"
   ]
  },
  {
   "cell_type": "code",
   "metadata": {
    "colab": {
     "base_uri": "https://localhost:8080/"
    },
    "id": "PAjwjjrjbUex",
    "outputId": "8e963c5e-129d-476a-c69f-600294417a6f",
    "ExecuteTime": {
     "end_time": "2024-05-12T17:04:23.330982Z",
     "start_time": "2024-05-12T17:04:22.945499Z"
    }
   },
   "source": [
    "from sklearn.metrics import confusion_matrix\n",
    "\n",
    "pred = model.predict(X_test)\n",
    "pred = np.argmax(pred, axis=-1)\n",
    "confusion_matrix(y_test, pred)"
   ],
   "outputs": [
    {
     "name": "stdout",
     "output_type": "stream",
     "text": [
      "\u001B[1m313/313\u001B[0m \u001B[32m━━━━━━━━━━━━━━━━━━━━\u001B[0m\u001B[37m\u001B[0m \u001B[1m0s\u001B[0m 744us/step\n"
     ]
    },
    {
     "data": {
      "text/plain": [
       "array([[ 966,    0,    0,    1,    2,    1,    7,    1,    1,    1],\n",
       "       [   0, 1124,    3,    2,    1,    1,    2,    0,    2,    0],\n",
       "       [   5,    0, 1007,    5,    2,    0,    3,    2,    7,    1],\n",
       "       [   2,    0,    8,  976,    1,    5,    0,    6,    9,    3],\n",
       "       [   1,    0,    4,    1,  950,    1,    5,    3,    1,   16],\n",
       "       [   3,    2,    0,   16,    4,  850,    7,    2,    5,    3],\n",
       "       [   8,    2,    4,    0,    4,    9,  925,    0,    5,    1],\n",
       "       [   1,    6,   13,    4,    2,    0,    0,  991,    3,    8],\n",
       "       [   6,    1,    5,    6,    6,    5,    3,    9,  932,    1],\n",
       "       [   4,    4,    0,    8,   15,    4,    0,    5,    4,  965]],\n",
       "      dtype=int64)"
      ]
     },
     "execution_count": 59,
     "metadata": {},
     "output_type": "execute_result"
    }
   ],
   "execution_count": 59
  },
  {
   "cell_type": "code",
   "source": [],
   "metadata": {
    "collapsed": false,
    "ExecuteTime": {
     "end_time": "2024-05-12T17:04:23.346482Z",
     "start_time": "2024-05-12T17:04:23.333482Z"
    }
   },
   "outputs": [],
   "execution_count": 59
  }
 ],
 "metadata": {
  "accelerator": "GPU",
  "colab": {
   "provenance": []
  },
  "kernelspec": {
   "display_name": "Python 3 (ipykernel)",
   "language": "python",
   "name": "python3"
  },
  "language_info": {
   "codemirror_mode": {
    "name": "ipython",
    "version": 3
   },
   "file_extension": ".py",
   "mimetype": "text/x-python",
   "name": "python",
   "nbconvert_exporter": "python",
   "pygments_lexer": "ipython3",
   "version": "3.9.16"
  }
 },
 "nbformat": 4,
 "nbformat_minor": 0
}
